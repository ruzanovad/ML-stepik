{
 "cells": [
  {
   "cell_type": "code",
   "execution_count": 1,
   "id": "f6606013",
   "metadata": {},
   "outputs": [],
   "source": [
    "import pandas as pd\n",
    "import numpy as np\n",
    "from matplotlib import pyplot as plt\n",
    "import warnings\n",
    "\n",
    "warnings.filterwarnings('ignore')\n",
    "\n",
    "submission_path = '../input/advanced-dls-spring-2021/submission.csv'\n",
    "test_path = '../input/advanced-dls-spring-2021/test.csv'\n",
    "train_path = '../input/advanced-dls-spring-2021/train.csv'"
   ]
  },
  {
   "cell_type": "markdown",
   "id": "2a578d0d",
   "metadata": {},
   "source": [
    "# Data Loading"
   ]
  },
  {
   "cell_type": "code",
   "execution_count": 2,
   "id": "f2490431",
   "metadata": {},
   "outputs": [],
   "source": [
    "data_train = pd.read_csv('./train.csv')"
   ]
  },
  {
   "cell_type": "markdown",
   "id": "877aba1d",
   "metadata": {},
   "source": [
    "1) Посмотрите на случайные строчки."
   ]
  },
  {
   "cell_type": "code",
   "execution_count": 3,
   "id": "c530f556",
   "metadata": {},
   "outputs": [
    {
     "name": "stdout",
     "output_type": "stream",
     "text": [
      "<class 'pandas.core.frame.DataFrame'>\n",
      "RangeIndex: 5282 entries, 0 to 5281\n",
      "Data columns (total 20 columns):\n",
      " #   Column                    Non-Null Count  Dtype  \n",
      "---  ------                    --------------  -----  \n",
      " 0   ClientPeriod              5282 non-null   int64  \n",
      " 1   MonthlySpending           5282 non-null   float64\n",
      " 2   TotalSpent                5282 non-null   object \n",
      " 3   Sex                       5282 non-null   object \n",
      " 4   IsSeniorCitizen           5282 non-null   int64  \n",
      " 5   HasPartner                5282 non-null   object \n",
      " 6   HasChild                  5282 non-null   object \n",
      " 7   HasPhoneService           5282 non-null   object \n",
      " 8   HasMultiplePhoneNumbers   5282 non-null   object \n",
      " 9   HasInternetService        5282 non-null   object \n",
      " 10  HasOnlineSecurityService  5282 non-null   object \n",
      " 11  HasOnlineBackup           5282 non-null   object \n",
      " 12  HasDeviceProtection       5282 non-null   object \n",
      " 13  HasTechSupportAccess      5282 non-null   object \n",
      " 14  HasOnlineTV               5282 non-null   object \n",
      " 15  HasMovieSubscription      5282 non-null   object \n",
      " 16  HasContractPhone          5282 non-null   object \n",
      " 17  IsBillingPaperless        5282 non-null   object \n",
      " 18  PaymentMethod             5282 non-null   object \n",
      " 19  Churn                     5282 non-null   int64  \n",
      "dtypes: float64(1), int64(3), object(16)\n",
      "memory usage: 825.4+ KB\n"
     ]
    },
    {
     "data": {
      "text/html": [
       "<div>\n",
       "<style scoped>\n",
       "    .dataframe tbody tr th:only-of-type {\n",
       "        vertical-align: middle;\n",
       "    }\n",
       "\n",
       "    .dataframe tbody tr th {\n",
       "        vertical-align: top;\n",
       "    }\n",
       "\n",
       "    .dataframe thead th {\n",
       "        text-align: right;\n",
       "    }\n",
       "</style>\n",
       "<table border=\"1\" class=\"dataframe\">\n",
       "  <thead>\n",
       "    <tr style=\"text-align: right;\">\n",
       "      <th></th>\n",
       "      <th>ClientPeriod</th>\n",
       "      <th>MonthlySpending</th>\n",
       "      <th>TotalSpent</th>\n",
       "      <th>Sex</th>\n",
       "      <th>IsSeniorCitizen</th>\n",
       "      <th>HasPartner</th>\n",
       "      <th>HasChild</th>\n",
       "      <th>HasPhoneService</th>\n",
       "      <th>HasMultiplePhoneNumbers</th>\n",
       "      <th>HasInternetService</th>\n",
       "      <th>HasOnlineSecurityService</th>\n",
       "      <th>HasOnlineBackup</th>\n",
       "      <th>HasDeviceProtection</th>\n",
       "      <th>HasTechSupportAccess</th>\n",
       "      <th>HasOnlineTV</th>\n",
       "      <th>HasMovieSubscription</th>\n",
       "      <th>HasContractPhone</th>\n",
       "      <th>IsBillingPaperless</th>\n",
       "      <th>PaymentMethod</th>\n",
       "      <th>Churn</th>\n",
       "    </tr>\n",
       "  </thead>\n",
       "  <tbody>\n",
       "    <tr>\n",
       "      <th>4371</th>\n",
       "      <td>38</td>\n",
       "      <td>85.40</td>\n",
       "      <td>3297</td>\n",
       "      <td>Male</td>\n",
       "      <td>0</td>\n",
       "      <td>Yes</td>\n",
       "      <td>Yes</td>\n",
       "      <td>Yes</td>\n",
       "      <td>Yes</td>\n",
       "      <td>DSL</td>\n",
       "      <td>Yes</td>\n",
       "      <td>No</td>\n",
       "      <td>Yes</td>\n",
       "      <td>Yes</td>\n",
       "      <td>Yes</td>\n",
       "      <td>Yes</td>\n",
       "      <td>Two year</td>\n",
       "      <td>Yes</td>\n",
       "      <td>Bank transfer (automatic)</td>\n",
       "      <td>0</td>\n",
       "    </tr>\n",
       "    <tr>\n",
       "      <th>4569</th>\n",
       "      <td>6</td>\n",
       "      <td>80.80</td>\n",
       "      <td>457.1</td>\n",
       "      <td>Male</td>\n",
       "      <td>1</td>\n",
       "      <td>Yes</td>\n",
       "      <td>No</td>\n",
       "      <td>Yes</td>\n",
       "      <td>Yes</td>\n",
       "      <td>Fiber optic</td>\n",
       "      <td>No</td>\n",
       "      <td>No</td>\n",
       "      <td>Yes</td>\n",
       "      <td>No</td>\n",
       "      <td>No</td>\n",
       "      <td>No</td>\n",
       "      <td>Month-to-month</td>\n",
       "      <td>Yes</td>\n",
       "      <td>Electronic check</td>\n",
       "      <td>0</td>\n",
       "    </tr>\n",
       "    <tr>\n",
       "      <th>1500</th>\n",
       "      <td>35</td>\n",
       "      <td>95.50</td>\n",
       "      <td>3418.2</td>\n",
       "      <td>Male</td>\n",
       "      <td>0</td>\n",
       "      <td>No</td>\n",
       "      <td>No</td>\n",
       "      <td>Yes</td>\n",
       "      <td>Yes</td>\n",
       "      <td>Fiber optic</td>\n",
       "      <td>No</td>\n",
       "      <td>No</td>\n",
       "      <td>Yes</td>\n",
       "      <td>Yes</td>\n",
       "      <td>Yes</td>\n",
       "      <td>No</td>\n",
       "      <td>Month-to-month</td>\n",
       "      <td>No</td>\n",
       "      <td>Electronic check</td>\n",
       "      <td>0</td>\n",
       "    </tr>\n",
       "    <tr>\n",
       "      <th>2804</th>\n",
       "      <td>16</td>\n",
       "      <td>54.85</td>\n",
       "      <td>916.15</td>\n",
       "      <td>Male</td>\n",
       "      <td>0</td>\n",
       "      <td>No</td>\n",
       "      <td>No</td>\n",
       "      <td>No</td>\n",
       "      <td>No phone service</td>\n",
       "      <td>DSL</td>\n",
       "      <td>Yes</td>\n",
       "      <td>Yes</td>\n",
       "      <td>Yes</td>\n",
       "      <td>Yes</td>\n",
       "      <td>Yes</td>\n",
       "      <td>No</td>\n",
       "      <td>Two year</td>\n",
       "      <td>No</td>\n",
       "      <td>Mailed check</td>\n",
       "      <td>0</td>\n",
       "    </tr>\n",
       "    <tr>\n",
       "      <th>4554</th>\n",
       "      <td>1</td>\n",
       "      <td>45.65</td>\n",
       "      <td>45.65</td>\n",
       "      <td>Male</td>\n",
       "      <td>0</td>\n",
       "      <td>No</td>\n",
       "      <td>No</td>\n",
       "      <td>Yes</td>\n",
       "      <td>No</td>\n",
       "      <td>DSL</td>\n",
       "      <td>No</td>\n",
       "      <td>No</td>\n",
       "      <td>No</td>\n",
       "      <td>No</td>\n",
       "      <td>No</td>\n",
       "      <td>No</td>\n",
       "      <td>Month-to-month</td>\n",
       "      <td>Yes</td>\n",
       "      <td>Electronic check</td>\n",
       "      <td>1</td>\n",
       "    </tr>\n",
       "    <tr>\n",
       "      <th>178</th>\n",
       "      <td>72</td>\n",
       "      <td>95.10</td>\n",
       "      <td>6843.15</td>\n",
       "      <td>Female</td>\n",
       "      <td>0</td>\n",
       "      <td>Yes</td>\n",
       "      <td>Yes</td>\n",
       "      <td>Yes</td>\n",
       "      <td>Yes</td>\n",
       "      <td>Fiber optic</td>\n",
       "      <td>Yes</td>\n",
       "      <td>Yes</td>\n",
       "      <td>No</td>\n",
       "      <td>No</td>\n",
       "      <td>Yes</td>\n",
       "      <td>No</td>\n",
       "      <td>Two year</td>\n",
       "      <td>Yes</td>\n",
       "      <td>Electronic check</td>\n",
       "      <td>0</td>\n",
       "    </tr>\n",
       "    <tr>\n",
       "      <th>537</th>\n",
       "      <td>71</td>\n",
       "      <td>97.65</td>\n",
       "      <td>6687.85</td>\n",
       "      <td>Male</td>\n",
       "      <td>0</td>\n",
       "      <td>No</td>\n",
       "      <td>No</td>\n",
       "      <td>Yes</td>\n",
       "      <td>Yes</td>\n",
       "      <td>Fiber optic</td>\n",
       "      <td>Yes</td>\n",
       "      <td>No</td>\n",
       "      <td>No</td>\n",
       "      <td>Yes</td>\n",
       "      <td>No</td>\n",
       "      <td>Yes</td>\n",
       "      <td>One year</td>\n",
       "      <td>No</td>\n",
       "      <td>Credit card (automatic)</td>\n",
       "      <td>0</td>\n",
       "    </tr>\n",
       "    <tr>\n",
       "      <th>4587</th>\n",
       "      <td>36</td>\n",
       "      <td>55.80</td>\n",
       "      <td>1941.5</td>\n",
       "      <td>Female</td>\n",
       "      <td>0</td>\n",
       "      <td>No</td>\n",
       "      <td>No</td>\n",
       "      <td>Yes</td>\n",
       "      <td>Yes</td>\n",
       "      <td>DSL</td>\n",
       "      <td>No</td>\n",
       "      <td>No</td>\n",
       "      <td>Yes</td>\n",
       "      <td>No</td>\n",
       "      <td>No</td>\n",
       "      <td>No</td>\n",
       "      <td>One year</td>\n",
       "      <td>No</td>\n",
       "      <td>Electronic check</td>\n",
       "      <td>0</td>\n",
       "    </tr>\n",
       "    <tr>\n",
       "      <th>3459</th>\n",
       "      <td>71</td>\n",
       "      <td>19.60</td>\n",
       "      <td>1387.45</td>\n",
       "      <td>Male</td>\n",
       "      <td>0</td>\n",
       "      <td>Yes</td>\n",
       "      <td>Yes</td>\n",
       "      <td>Yes</td>\n",
       "      <td>No</td>\n",
       "      <td>No</td>\n",
       "      <td>No internet service</td>\n",
       "      <td>No internet service</td>\n",
       "      <td>No internet service</td>\n",
       "      <td>No internet service</td>\n",
       "      <td>No internet service</td>\n",
       "      <td>No internet service</td>\n",
       "      <td>Two year</td>\n",
       "      <td>Yes</td>\n",
       "      <td>Bank transfer (automatic)</td>\n",
       "      <td>0</td>\n",
       "    </tr>\n",
       "    <tr>\n",
       "      <th>4208</th>\n",
       "      <td>1</td>\n",
       "      <td>19.05</td>\n",
       "      <td>19.05</td>\n",
       "      <td>Male</td>\n",
       "      <td>0</td>\n",
       "      <td>No</td>\n",
       "      <td>No</td>\n",
       "      <td>Yes</td>\n",
       "      <td>No</td>\n",
       "      <td>No</td>\n",
       "      <td>No internet service</td>\n",
       "      <td>No internet service</td>\n",
       "      <td>No internet service</td>\n",
       "      <td>No internet service</td>\n",
       "      <td>No internet service</td>\n",
       "      <td>No internet service</td>\n",
       "      <td>Month-to-month</td>\n",
       "      <td>No</td>\n",
       "      <td>Mailed check</td>\n",
       "      <td>0</td>\n",
       "    </tr>\n",
       "  </tbody>\n",
       "</table>\n",
       "</div>"
      ],
      "text/plain": [
       "      ClientPeriod  MonthlySpending TotalSpent     Sex  IsSeniorCitizen  \\\n",
       "4371            38            85.40       3297    Male                0   \n",
       "4569             6            80.80      457.1    Male                1   \n",
       "1500            35            95.50     3418.2    Male                0   \n",
       "2804            16            54.85     916.15    Male                0   \n",
       "4554             1            45.65      45.65    Male                0   \n",
       "178             72            95.10    6843.15  Female                0   \n",
       "537             71            97.65    6687.85    Male                0   \n",
       "4587            36            55.80     1941.5  Female                0   \n",
       "3459            71            19.60    1387.45    Male                0   \n",
       "4208             1            19.05      19.05    Male                0   \n",
       "\n",
       "     HasPartner HasChild HasPhoneService HasMultiplePhoneNumbers  \\\n",
       "4371        Yes      Yes             Yes                     Yes   \n",
       "4569        Yes       No             Yes                     Yes   \n",
       "1500         No       No             Yes                     Yes   \n",
       "2804         No       No              No        No phone service   \n",
       "4554         No       No             Yes                      No   \n",
       "178         Yes      Yes             Yes                     Yes   \n",
       "537          No       No             Yes                     Yes   \n",
       "4587         No       No             Yes                     Yes   \n",
       "3459        Yes      Yes             Yes                      No   \n",
       "4208         No       No             Yes                      No   \n",
       "\n",
       "     HasInternetService HasOnlineSecurityService      HasOnlineBackup  \\\n",
       "4371                DSL                      Yes                   No   \n",
       "4569        Fiber optic                       No                   No   \n",
       "1500        Fiber optic                       No                   No   \n",
       "2804                DSL                      Yes                  Yes   \n",
       "4554                DSL                       No                   No   \n",
       "178         Fiber optic                      Yes                  Yes   \n",
       "537         Fiber optic                      Yes                   No   \n",
       "4587                DSL                       No                   No   \n",
       "3459                 No      No internet service  No internet service   \n",
       "4208                 No      No internet service  No internet service   \n",
       "\n",
       "      HasDeviceProtection HasTechSupportAccess          HasOnlineTV  \\\n",
       "4371                  Yes                  Yes                  Yes   \n",
       "4569                  Yes                   No                   No   \n",
       "1500                  Yes                  Yes                  Yes   \n",
       "2804                  Yes                  Yes                  Yes   \n",
       "4554                   No                   No                   No   \n",
       "178                    No                   No                  Yes   \n",
       "537                    No                  Yes                   No   \n",
       "4587                  Yes                   No                   No   \n",
       "3459  No internet service  No internet service  No internet service   \n",
       "4208  No internet service  No internet service  No internet service   \n",
       "\n",
       "     HasMovieSubscription HasContractPhone IsBillingPaperless  \\\n",
       "4371                  Yes         Two year                Yes   \n",
       "4569                   No   Month-to-month                Yes   \n",
       "1500                   No   Month-to-month                 No   \n",
       "2804                   No         Two year                 No   \n",
       "4554                   No   Month-to-month                Yes   \n",
       "178                    No         Two year                Yes   \n",
       "537                   Yes         One year                 No   \n",
       "4587                   No         One year                 No   \n",
       "3459  No internet service         Two year                Yes   \n",
       "4208  No internet service   Month-to-month                 No   \n",
       "\n",
       "                  PaymentMethod  Churn  \n",
       "4371  Bank transfer (automatic)      0  \n",
       "4569           Electronic check      0  \n",
       "1500           Electronic check      0  \n",
       "2804               Mailed check      0  \n",
       "4554           Electronic check      1  \n",
       "178            Electronic check      0  \n",
       "537     Credit card (automatic)      0  \n",
       "4587           Electronic check      0  \n",
       "3459  Bank transfer (automatic)      0  \n",
       "4208               Mailed check      0  "
      ]
     },
     "execution_count": 3,
     "metadata": {},
     "output_type": "execute_result"
    }
   ],
   "source": [
    "data_train.info()\n",
    "data_train.sample(10)"
   ]
  },
  {
   "cell_type": "code",
   "execution_count": 4,
   "id": "cfda2320",
   "metadata": {},
   "outputs": [],
   "source": [
    "# Числовые признаки\n",
    "num_cols = [\n",
    "    'ClientPeriod',\n",
    "    'MonthlySpending',\n",
    "    'TotalSpent'\n",
    "]\n",
    "\n",
    "# Категориальные признаки\n",
    "cat_cols = [\n",
    "    'Sex',\n",
    "    'IsSeniorCitizen',\n",
    "    'HasPartner',\n",
    "    'HasChild',\n",
    "    'HasPhoneService',\n",
    "    'HasMultiplePhoneNumbers',\n",
    "    'HasInternetService',\n",
    "    'HasOnlineSecurityService',\n",
    "    'HasOnlineBackup',\n",
    "    'HasDeviceProtection',\n",
    "    'HasTechSupportAccess',\n",
    "    'HasOnlineTV',\n",
    "    'HasMovieSubscription',\n",
    "    'HasContractPhone',\n",
    "    'IsBillingPaperless',\n",
    "    'PaymentMethod'\n",
    "]\n",
    "\n",
    "feature_cols = num_cols + cat_cols\n",
    "target_col = 'Churn'"
   ]
  },
  {
   "cell_type": "markdown",
   "id": "c29c74ae",
   "metadata": {},
   "source": [
    "2) Посмотрите, есть ли в датасете незаполненные значения (nan'ы) с помощью data.isna() или data.info() и, если нужно, замените их на что-то. Будет хорошо, если вы построите табличку с количеством nan в каждой колонке."
   ]
  },
  {
   "cell_type": "code",
   "execution_count": 5,
   "id": "b8c9d92e",
   "metadata": {},
   "outputs": [
    {
     "data": {
      "text/plain": [
       "ClientPeriod                0\n",
       "MonthlySpending             0\n",
       "TotalSpent                  0\n",
       "Sex                         0\n",
       "IsSeniorCitizen             0\n",
       "HasPartner                  0\n",
       "HasChild                    0\n",
       "HasPhoneService             0\n",
       "HasMultiplePhoneNumbers     0\n",
       "HasInternetService          0\n",
       "HasOnlineSecurityService    0\n",
       "HasOnlineBackup             0\n",
       "HasDeviceProtection         0\n",
       "HasTechSupportAccess        0\n",
       "HasOnlineTV                 0\n",
       "HasMovieSubscription        0\n",
       "HasContractPhone            0\n",
       "IsBillingPaperless          0\n",
       "PaymentMethod               0\n",
       "Churn                       0\n",
       "dtype: int64"
      ]
     },
     "execution_count": 5,
     "metadata": {},
     "output_type": "execute_result"
    }
   ],
   "source": [
    "data_train.isnull().sum()"
   ]
  },
  {
   "cell_type": "markdown",
   "id": "e3bff8b1",
   "metadata": {},
   "source": [
    "NaN'ов не обнаружено."
   ]
  },
  {
   "cell_type": "code",
   "execution_count": 6,
   "id": "49f33021",
   "metadata": {},
   "outputs": [
    {
     "data": {
      "text/plain": [
       "ClientPeriod                0\n",
       "MonthlySpending             0\n",
       "TotalSpent                  9\n",
       "Sex                         0\n",
       "IsSeniorCitizen             0\n",
       "HasPartner                  0\n",
       "HasChild                    0\n",
       "HasPhoneService             0\n",
       "HasMultiplePhoneNumbers     0\n",
       "HasInternetService          0\n",
       "HasOnlineSecurityService    0\n",
       "HasOnlineBackup             0\n",
       "HasDeviceProtection         0\n",
       "HasTechSupportAccess        0\n",
       "HasOnlineTV                 0\n",
       "HasMovieSubscription        0\n",
       "HasContractPhone            0\n",
       "IsBillingPaperless          0\n",
       "PaymentMethod               0\n",
       "Churn                       0\n",
       "dtype: int64"
      ]
     },
     "execution_count": 6,
     "metadata": {},
     "output_type": "execute_result"
    }
   ],
   "source": [
    "(data_train == ' ').sum()"
   ]
  },
  {
   "cell_type": "markdown",
   "id": "7be19ff5",
   "metadata": {},
   "source": [
    "Однако в столбце TotalSpent есть пробелы. Заменим их на среднее арифметическое:"
   ]
  },
  {
   "cell_type": "code",
   "execution_count": 7,
   "id": "4411cde0",
   "metadata": {},
   "outputs": [
    {
     "data": {
      "text/plain": [
       "ClientPeriod                0\n",
       "MonthlySpending             0\n",
       "TotalSpent                  0\n",
       "Sex                         0\n",
       "IsSeniorCitizen             0\n",
       "HasPartner                  0\n",
       "HasChild                    0\n",
       "HasPhoneService             0\n",
       "HasMultiplePhoneNumbers     0\n",
       "HasInternetService          0\n",
       "HasOnlineSecurityService    0\n",
       "HasOnlineBackup             0\n",
       "HasDeviceProtection         0\n",
       "HasTechSupportAccess        0\n",
       "HasOnlineTV                 0\n",
       "HasMovieSubscription        0\n",
       "HasContractPhone            0\n",
       "IsBillingPaperless          0\n",
       "PaymentMethod               0\n",
       "Churn                       0\n",
       "dtype: int64"
      ]
     },
     "execution_count": 7,
     "metadata": {},
     "output_type": "execute_result"
    }
   ],
   "source": [
    "data_train[\"TotalSpent\"] = data_train[\"TotalSpent\"].apply(pd.to_numeric,errors='coerce')\n",
    "data_train[\"TotalSpent\"] = data_train[\"TotalSpent\"].astype('float64')\n",
    "data_train['TotalSpent'].fillna(value=data_train['TotalSpent'].mean(), inplace=True)\n",
    "(data_train == ' ').sum()"
   ]
  },
  {
   "cell_type": "markdown",
   "id": "ca5b7d38",
   "metadata": {},
   "source": [
    "# Data Analysis"
   ]
  },
  {
   "cell_type": "markdown",
   "id": "2c5cafff",
   "metadata": {},
   "source": [
    "Изучим числовые признаки:"
   ]
  },
  {
   "cell_type": "code",
   "execution_count": 8,
   "id": "cc886e80",
   "metadata": {},
   "outputs": [
    {
     "data": {
      "text/html": [
       "<div>\n",
       "<style scoped>\n",
       "    .dataframe tbody tr th:only-of-type {\n",
       "        vertical-align: middle;\n",
       "    }\n",
       "\n",
       "    .dataframe tbody tr th {\n",
       "        vertical-align: top;\n",
       "    }\n",
       "\n",
       "    .dataframe thead th {\n",
       "        text-align: right;\n",
       "    }\n",
       "</style>\n",
       "<table border=\"1\" class=\"dataframe\">\n",
       "  <thead>\n",
       "    <tr style=\"text-align: right;\">\n",
       "      <th></th>\n",
       "      <th>ClientPeriod</th>\n",
       "      <th>MonthlySpending</th>\n",
       "      <th>TotalSpent</th>\n",
       "    </tr>\n",
       "  </thead>\n",
       "  <tbody>\n",
       "    <tr>\n",
       "      <th>0</th>\n",
       "      <td>55</td>\n",
       "      <td>19.50</td>\n",
       "      <td>1026.35</td>\n",
       "    </tr>\n",
       "    <tr>\n",
       "      <th>1</th>\n",
       "      <td>72</td>\n",
       "      <td>25.85</td>\n",
       "      <td>1872.20</td>\n",
       "    </tr>\n",
       "    <tr>\n",
       "      <th>2</th>\n",
       "      <td>1</td>\n",
       "      <td>75.90</td>\n",
       "      <td>75.90</td>\n",
       "    </tr>\n",
       "    <tr>\n",
       "      <th>3</th>\n",
       "      <td>32</td>\n",
       "      <td>79.30</td>\n",
       "      <td>2570.00</td>\n",
       "    </tr>\n",
       "    <tr>\n",
       "      <th>4</th>\n",
       "      <td>60</td>\n",
       "      <td>115.25</td>\n",
       "      <td>6758.45</td>\n",
       "    </tr>\n",
       "    <tr>\n",
       "      <th>...</th>\n",
       "      <td>...</td>\n",
       "      <td>...</td>\n",
       "      <td>...</td>\n",
       "    </tr>\n",
       "    <tr>\n",
       "      <th>5277</th>\n",
       "      <td>3</td>\n",
       "      <td>30.40</td>\n",
       "      <td>82.15</td>\n",
       "    </tr>\n",
       "    <tr>\n",
       "      <th>5278</th>\n",
       "      <td>50</td>\n",
       "      <td>44.45</td>\n",
       "      <td>2188.45</td>\n",
       "    </tr>\n",
       "    <tr>\n",
       "      <th>5279</th>\n",
       "      <td>1</td>\n",
       "      <td>55.05</td>\n",
       "      <td>55.05</td>\n",
       "    </tr>\n",
       "    <tr>\n",
       "      <th>5280</th>\n",
       "      <td>29</td>\n",
       "      <td>76.00</td>\n",
       "      <td>2215.25</td>\n",
       "    </tr>\n",
       "    <tr>\n",
       "      <th>5281</th>\n",
       "      <td>19</td>\n",
       "      <td>75.90</td>\n",
       "      <td>1375.60</td>\n",
       "    </tr>\n",
       "  </tbody>\n",
       "</table>\n",
       "<p>5282 rows × 3 columns</p>\n",
       "</div>"
      ],
      "text/plain": [
       "      ClientPeriod  MonthlySpending  TotalSpent\n",
       "0               55            19.50     1026.35\n",
       "1               72            25.85     1872.20\n",
       "2                1            75.90       75.90\n",
       "3               32            79.30     2570.00\n",
       "4               60           115.25     6758.45\n",
       "...            ...              ...         ...\n",
       "5277             3            30.40       82.15\n",
       "5278            50            44.45     2188.45\n",
       "5279             1            55.05       55.05\n",
       "5280            29            76.00     2215.25\n",
       "5281            19            75.90     1375.60\n",
       "\n",
       "[5282 rows x 3 columns]"
      ]
     },
     "execution_count": 8,
     "metadata": {},
     "output_type": "execute_result"
    }
   ],
   "source": [
    "data_train[num_cols]"
   ]
  },
  {
   "cell_type": "markdown",
   "id": "d990950c",
   "metadata": {},
   "source": [
    "1) Для численных признаков постройте гистограмму (plt.hist(...)) или boxplot (plt.boxplot(...)). "
   ]
  },
  {
   "cell_type": "code",
   "execution_count": 9,
   "id": "3fe11943",
   "metadata": {},
   "outputs": [
    {
     "data": {
      "image/png": "[encoded data removed]",
      "text/plain": [
       "<Figure size 1080x216 with 3 Axes>"
      ]
     },
     "metadata": {
      "needs_background": "light"
     },
     "output_type": "display_data"
    }
   ],
   "source": [
    "def get_cmap(n, name='Spectral'): #цветовая тема\n",
    "    return plt.cm.get_cmap(name, n)\n",
    "\n",
    "colors = get_cmap(3)\n",
    "\n",
    "fig, axes = plt.subplots(nrows=1, ncols=3, figsize=(15, 3))\n",
    "fig.suptitle('Distribution of numerical features')\n",
    "\n",
    "\n",
    "for index, axis in enumerate(axes):\n",
    "    axis.hist(data_train[num_cols[index]], color = colors(index), ec=\"black\")\n",
    "    axis.set_xlabel(num_cols[index])"
   ]
  },
  {
   "cell_type": "markdown",
   "id": "ba28c46f",
   "metadata": {},
   "source": [
    "Для категориальных посчитайте количество каждого значения для каждого признака. Для каждой колонки надо сделать data.value_counts() и построить bar диаграммы plt.bar(...) или круговые диаграммы plt.pie(...) (хорошо, если вы сможете это сделать на одном графике с помощью plt.subplots(...))."
   ]
  },
  {
   "cell_type": "code",
   "execution_count": 10,
   "id": "42caa305",
   "metadata": {},
   "outputs": [
    {
     "data": {
      "image/png": "[encoded data removed]",
      "text/plain": [
       "<Figure size 1080x1080 with 16 Axes>"
      ]
     },
     "metadata": {},
     "output_type": "display_data"
    }
   ],
   "source": [
    "fig, axes = plt.subplots(nrows=4, ncols=4, figsize=(15,15))\n",
    "fig.suptitle('Distribution of categorical features')\n",
    "\n",
    "colors = get_cmap(16)\n",
    "for index, axis in enumerate(cat_cols):\n",
    "    row, col = index%4, index//4\n",
    "    axes[row, col].set_prop_cycle(\"color\", plt.cm.Spectral(np.linspace(0,10,30)))\n",
    "    axes[row, col].pie(data_train[cat_cols[index]].value_counts(), labels = data_train[axis].value_counts())\n",
    "    axes[row, col].set_xlabel(cat_cols[index])\n",
    "    axes[row, col].legend()"
   ]
  },
  {
   "cell_type": "markdown",
   "id": "dde8b0a6",
   "metadata": {},
   "source": [
    "2) Посмотрите на распределение целевой переменной и скажите, являются ли классы несбалансированными."
   ]
  },
  {
   "cell_type": "code",
   "execution_count": 11,
   "id": "ff16af7d",
   "metadata": {},
   "outputs": [
    {
     "data": {
      "text/plain": [
       "<AxesSubplot:>"
      ]
     },
     "execution_count": 11,
     "metadata": {},
     "output_type": "execute_result"
    },
    {
     "data": {
      "image/png": "[encoded data removed]",
      "text/plain": [
       "<Figure size 432x288 with 1 Axes>"
      ]
     },
     "metadata": {
      "needs_background": "light"
     },
     "output_type": "display_data"
    }
   ],
   "source": [
    "data_train[target_col].hist()"
   ]
  },
  {
   "cell_type": "code",
   "execution_count": 12,
   "id": "97929f2b",
   "metadata": {},
   "outputs": [
    {
     "data": {
      "text/plain": [
       "0.26202196137826583"
      ]
     },
     "execution_count": 12,
     "metadata": {},
     "output_type": "execute_result"
    }
   ],
   "source": [
    "target_rate = data_train[data_train.Churn == 1].shape[0]/data_train.shape[0]\n",
    "target_rate"
   ]
  },
  {
   "cell_type": "markdown",
   "id": "cc8fa2f2",
   "metadata": {},
   "source": [
    "Классы не являются несбалансированными (разница не слишком велика)."
   ]
  },
  {
   "cell_type": "markdown",
   "id": "d6681fe9",
   "metadata": {},
   "source": [
    "# Logistic Regression\n",
    "1) Обработайте данные для того, чтобы к ним можно было применить LogisticRegression. Т.е. отнормируйте числовые признаки, а категориальные закодируйте с помощью one-hot-encoding'а."
   ]
  },
  {
   "cell_type": "code",
   "execution_count": 13,
   "id": "3911dbbb",
   "metadata": {},
   "outputs": [],
   "source": [
    "from sklearn.linear_model import LogisticRegression, LogisticRegressionCV\n",
    "from sklearn.model_selection import train_test_split, GridSearchCV\n",
    "from sklearn.preprocessing import RobustScaler, OrdinalEncoder, OneHotEncoder\n",
    "from sklearn.pipeline import make_pipeline\n",
    "from sklearn.metrics import roc_auc_score\n",
    "from sklearn.compose import ColumnTransformer"
   ]
  },
  {
   "cell_type": "code",
   "execution_count": 15,
   "id": "61cbf9dd",
   "metadata": {},
   "outputs": [],
   "source": [
    "X = data_train.iloc[:, :-1]\n",
    "y = data_train.iloc[:, -1]\n",
    "\n",
    "logreg_transformer = ColumnTransformer(transformers=[\n",
    "                                ('num', RobustScaler(), num_cols),\n",
    "                                ('cat_label', OrdinalEncoder(), cat_cols),\n",
    "                                ('cat_OH', OneHotEncoder(), cat_cols)\n",
    "])\n",
    "\n",
    "X_train, X_valid, y_train, y_valid = train_test_split(X, y, test_size=.2)\n",
    "\n",
    "#pipeline = make_pipeline(logreg_transformer, LogisticRegression(n_jobs=-1))\n",
    "#param_grid = {\n",
    "#    'logisticregression__C': [100, 10, 1, 0.1, 0.01, 0.001],\n",
    "#    'logisticregression__penalty': ['l1', 'l2'],\n",
    "#    'logisticregression__max_iter' : [100, 300, 500, 1000],\n",
    "#    'logisticregression__solver' : ['newton-cg', 'lbfgs', 'liblinear', 'sag', 'saga']\n",
    "#}\n",
    "#grid = GridSearchCV(estimator=pipeline, param_grid=param_grid, scoring='roc_auc')\n",
    "#grid.fit(X, y)"
   ]
  },
  {
   "cell_type": "code",
   "execution_count": 16,
   "id": "90aa9e4c",
   "metadata": {},
   "outputs": [],
   "source": [
    "#grid.best_params_"
   ]
  },
  {
   "cell_type": "markdown",
   "id": "13eeeb6c",
   "metadata": {},
   "source": [
    "Выше при помощи GridSearchCV были выбраны лучшие параметры:"
   ]
  },
  {
   "cell_type": "code",
   "execution_count": 17,
   "id": "efe64e01",
   "metadata": {},
   "outputs": [],
   "source": [
    "pipeline = make_pipeline(\n",
    "                         logreg_transformer, \n",
    "                         LogisticRegression(**{'C' : 100, 'max_iter' : 500, 'solver' : 'saga', 'penalty': 'l1'})\n",
    ")\n",
    "pipeline.fit(X_train, y_train)\n",
    "probs = pipeline.predict_proba(X_valid)[:, 1]"
   ]
  },
  {
   "cell_type": "code",
   "execution_count": 18,
   "id": "0809092b",
   "metadata": {},
   "outputs": [
    {
     "name": "stdout",
     "output_type": "stream",
     "text": [
      "Best ROC-AUC score - 0.8572494717439194\n",
      "Params:\n",
      "C :  100\n",
      "max_iter :  500\n",
      "solver :  saga\n",
      "penalty :  l1\n"
     ]
    }
   ],
   "source": [
    "print('Best ROC-AUC score -', str(roc_auc_score(y_valid, probs)))\n",
    "print('Params:')\n",
    "for i in {'C' : 100, 'max_iter' : 500, 'solver' : 'saga', 'penalty': 'l1'}.items():\n",
    "    print(i[0], \": \", i[1])"
   ]
  },
  {
   "cell_type": "markdown",
   "id": "ba524e32",
   "metadata": {},
   "source": [
    "Лучший результат метрики: 0.8572."
   ]
  },
  {
   "cell_type": "markdown",
   "id": "f35f9be2",
   "metadata": {},
   "source": [
    "# Gradient Boosting"
   ]
  },
  {
   "cell_type": "code",
   "execution_count": 20,
   "id": "2147ccb4",
   "metadata": {},
   "outputs": [
    {
     "name": "stdout",
     "output_type": "stream",
     "text": [
      "Requirement already satisfied: catboost in c:\\users\\light\\anaconda3\\lib\\site-packages (1.0.5)\n",
      "Requirement already satisfied: pandas>=0.24.0 in c:\\users\\light\\anaconda3\\lib\\site-packages (from catboost) (1.3.4)\n",
      "Requirement already satisfied: scipy in c:\\users\\light\\anaconda3\\lib\\site-packages (from catboost) (1.7.1)\n",
      "Requirement already satisfied: numpy>=1.16.0 in c:\\users\\light\\anaconda3\\lib\\site-packages (from catboost) (1.20.3)\n",
      "Requirement already satisfied: six in c:\\users\\light\\anaconda3\\lib\\site-packages (from catboost) (1.16.0)\n",
      "Requirement already satisfied: matplotlib in c:\\users\\light\\anaconda3\\lib\\site-packages (from catboost) (3.4.3)\n",
      "Requirement already satisfied: plotly in c:\\users\\light\\anaconda3\\lib\\site-packages (from catboost) (5.7.0)\n",
      "Requirement already satisfied: graphviz in c:\\users\\light\\anaconda3\\lib\\site-packages (from catboost) (0.20)\n",
      "Requirement already satisfied: pytz>=2017.3 in c:\\users\\light\\anaconda3\\lib\\site-packages (from pandas>=0.24.0->catboost) (2021.3)\n",
      "Requirement already satisfied: python-dateutil>=2.7.3 in c:\\users\\light\\anaconda3\\lib\\site-packages (from pandas>=0.24.0->catboost) (2.8.2)\n",
      "Requirement already satisfied: kiwisolver>=1.0.1 in c:\\users\\light\\anaconda3\\lib\\site-packages (from matplotlib->catboost) (1.3.1)\n",
      "Requirement already satisfied: pillow>=6.2.0 in c:\\users\\light\\anaconda3\\lib\\site-packages (from matplotlib->catboost) (8.4.0)\n",
      "Requirement already satisfied: pyparsing>=2.2.1 in c:\\users\\light\\anaconda3\\lib\\site-packages (from matplotlib->catboost) (3.0.4)\n",
      "Requirement already satisfied: cycler>=0.10 in c:\\users\\light\\anaconda3\\lib\\site-packages (from matplotlib->catboost) (0.10.0)\n",
      "Requirement already satisfied: tenacity>=6.2.0 in c:\\users\\light\\anaconda3\\lib\\site-packages (from plotly->catboost) (8.0.1)\n"
     ]
    }
   ],
   "source": [
    "!pip install catboost"
   ]
  },
  {
   "cell_type": "code",
   "execution_count": 27,
   "id": "3060e744",
   "metadata": {},
   "outputs": [],
   "source": [
    "from catboost import CatBoostClassifier, Pool"
   ]
  },
  {
   "cell_type": "markdown",
   "id": "7693289a",
   "metadata": {},
   "source": [
    "## Default settings"
   ]
  },
  {
   "cell_type": "markdown",
   "id": "5959d18b",
   "metadata": {},
   "source": [
    "1) Разделите выборку на train/valid. Протестируйте catboost cо стандартными параметрами."
   ]
  },
  {
   "cell_type": "code",
   "execution_count": 42,
   "id": "b9222ce5",
   "metadata": {},
   "outputs": [
    {
     "name": "stdout",
     "output_type": "stream",
     "text": [
      "ROC-AUC score - 0.8436938813292604\n"
     ]
    }
   ],
   "source": [
    "X_train, X_valid, y_train, y_valid = train_test_split(X, y, test_size=.2)\n",
    "\n",
    "train_dataset = Pool(X_train, y_train, cat_cols)\n",
    "val_dataset = Pool(X_valid, y_valid, cat_cols)\n",
    "\n",
    "cat_default = CatBoostClassifier(logging_level='Silent', eval_metric='AUC:hints=skip_train~false')\n",
    "cat_default.fit(train_dataset, use_best_model=True, eval_set=val_dataset)\n",
    "\n",
    "print(f'ROC-AUC score - {roc_auc_score(y_valid, cat_default.predict_proba(val_dataset)[:, 1])}')"
   ]
  },
  {
   "cell_type": "markdown",
   "id": "0699ad74",
   "metadata": {},
   "source": [
    "## CatBoost with parameters "
   ]
  },
  {
   "cell_type": "markdown",
   "id": "37b28057",
   "metadata": {},
   "source": [
    "2) Протестируйте разные значения параметра количества деревьев и learning_rate'а и выберите лучшую по метрике ROC-AUC комбинацию."
   ]
  },
  {
   "cell_type": "code",
   "execution_count": 41,
   "id": "80e894d5",
   "metadata": {},
   "outputs": [
    {
     "name": "stdout",
     "output_type": "stream",
     "text": [
      "0:\tloss: 0.8161494\tbest: 0.8161494 (0)\ttotal: 1.39s\tremaining: 48.8s\n",
      "1:\tloss: 0.8207375\tbest: 0.8207375 (1)\ttotal: 2.83s\tremaining: 48.1s\n",
      "2:\tloss: 0.8233286\tbest: 0.8233286 (2)\ttotal: 4.14s\tremaining: 45.6s\n",
      "3:\tloss: 0.8253959\tbest: 0.8253959 (3)\ttotal: 8.68s\tremaining: 1m 9s\n",
      "4:\tloss: 0.8276600\tbest: 0.8276600 (4)\ttotal: 13s\tremaining: 1m 20s\n",
      "5:\tloss: 0.8298152\tbest: 0.8298152 (5)\ttotal: 17s\tremaining: 1m 25s\n",
      "6:\tloss: 0.8287851\tbest: 0.8298152 (5)\ttotal: 23.9s\tremaining: 1m 39s\n",
      "7:\tloss: 0.8309684\tbest: 0.8309684 (7)\ttotal: 30.5s\tremaining: 1m 46s\n",
      "8:\tloss: 0.8316610\tbest: 0.8316610 (8)\ttotal: 37s\tremaining: 1m 51s\n",
      "9:\tloss: 0.8309403\tbest: 0.8316610 (8)\ttotal: 47.6s\tremaining: 2m 3s\n",
      "10:\tloss: 0.8322200\tbest: 0.8322200 (10)\ttotal: 58.6s\tremaining: 2m 13s\n",
      "11:\tloss: 0.8322903\tbest: 0.8322903 (11)\ttotal: 1m 9s\tremaining: 2m 18s\n",
      "12:\tloss: 0.8200695\tbest: 0.8322903 (11)\ttotal: 1m 11s\tremaining: 2m 6s\n",
      "13:\tloss: 0.8238067\tbest: 0.8322903 (11)\ttotal: 1m 13s\tremaining: 1m 56s\n",
      "14:\tloss: 0.8239860\tbest: 0.8322903 (11)\ttotal: 1m 16s\tremaining: 1m 46s\n",
      "15:\tloss: 0.8275335\tbest: 0.8322903 (11)\ttotal: 1m 24s\tremaining: 1m 45s\n",
      "16:\tloss: 0.8299523\tbest: 0.8322903 (11)\ttotal: 1m 33s\tremaining: 1m 44s\n",
      "17:\tloss: 0.8311934\tbest: 0.8322903 (11)\ttotal: 1m 42s\tremaining: 1m 42s\n",
      "18:\tloss: 0.8305008\tbest: 0.8322903 (11)\ttotal: 1m 56s\tremaining: 1m 43s\n",
      "19:\tloss: 0.8310563\tbest: 0.8322903 (11)\ttotal: 2m 10s\tremaining: 1m 44s\n",
      "20:\tloss: 0.8323009\tbest: 0.8323009 (20)\ttotal: 2m 24s\tremaining: 1m 43s\n",
      "21:\tloss: 0.8314536\tbest: 0.8323009 (20)\ttotal: 2m 47s\tremaining: 1m 46s\n",
      "22:\tloss: 0.8310563\tbest: 0.8323009 (20)\ttotal: 3m 10s\tremaining: 1m 47s\n",
      "23:\tloss: 0.8323009\tbest: 0.8323009 (20)\ttotal: 3m 33s\tremaining: 1m 46s\n",
      "24:\tloss: 0.8191694\tbest: 0.8323009 (20)\ttotal: 3m 36s\tremaining: 1m 35s\n",
      "25:\tloss: 0.8256596\tbest: 0.8323009 (20)\ttotal: 3m 40s\tremaining: 1m 24s\n",
      "26:\tloss: 0.8260779\tbest: 0.8323009 (20)\ttotal: 3m 43s\tremaining: 1m 14s\n",
      "27:\tloss: 0.8282437\tbest: 0.8323009 (20)\ttotal: 3m 53s\tremaining: 1m 6s\n",
      "28:\tloss: 0.8286550\tbest: 0.8323009 (20)\ttotal: 4m 2s\tremaining: 58.6s\n",
      "29:\tloss: 0.8308664\tbest: 0.8323009 (20)\ttotal: 4m 12s\tremaining: 50.5s\n",
      "30:\tloss: 0.8302582\tbest: 0.8323009 (20)\ttotal: 4m 28s\tremaining: 43.3s\n",
      "31:\tloss: 0.8290593\tbest: 0.8323009 (20)\ttotal: 4m 44s\tremaining: 35.5s\n",
      "32:\tloss: 0.8309297\tbest: 0.8323009 (20)\ttotal: 5m\tremaining: 27.4s\n",
      "33:\tloss: 0.8305676\tbest: 0.8323009 (20)\ttotal: 5m 28s\tremaining: 19.3s\n",
      "34:\tloss: 0.8290593\tbest: 0.8323009 (20)\ttotal: 5m 55s\tremaining: 10.2s\n",
      "35:\tloss: 0.8309297\tbest: 0.8323009 (20)\ttotal: 6m 23s\tremaining: 0us\n",
      "Estimating final quality...\n",
      "{'depth': 3, 'iterations': 500, 'learning_rate': 0.04}\n",
      "Best ROC-AUC score - 0.8658603409516673\n"
     ]
    }
   ],
   "source": [
    "param_grid = {\n",
    "    'depth': [2, 3, 4],\n",
    "    'learning_rate': [0.02, 0.03, 0.04],\n",
    "    'iterations' : [100, 300, 500, 800],\n",
    "    }\n",
    "base_params = {\n",
    "    'logging_level':'Silent',\n",
    "    'loss_function':'Logloss',\n",
    "    'l2_leaf_reg': 3,\n",
    "    'random_strength': 1.2,\n",
    "    'eval_metric': 'AUC:hints=skip_train~false', \n",
    "}\n",
    "cat_param = CatBoostClassifier(**base_params)\n",
    "search = cat_param.grid_search(param_grid, train_dataset, cv=5)\n",
    "cat_param.fit(train_dataset, use_best_model=True, eval_set=val_dataset)\n",
    "print(search['params'])\n",
    "print(f'Best ROC-AUC score - {roc_auc_score(y_valid, cat_param.predict_proba(val_dataset)[:, 1])}')"
   ]
  },
  {
   "cell_type": "markdown",
   "id": "d66cef99",
   "metadata": {},
   "source": [
    "Params - 'depth': 3, 'iterations': 500, 'learning_rate': 0.04\n",
    "Best ROC-AUC score - 0.8658603409516673"
   ]
  },
  {
   "cell_type": "markdown",
   "id": "eb89bfbe",
   "metadata": {},
   "source": [
    "# Predictions"
   ]
  },
  {
   "cell_type": "markdown",
   "id": "f1de5528",
   "metadata": {},
   "source": [
    "Лучшей моделью оказалась CatBoost с параметрами."
   ]
  },
  {
   "cell_type": "code",
   "execution_count": 49,
   "id": "4d129a2f",
   "metadata": {},
   "outputs": [],
   "source": [
    "best_model = cat_param"
   ]
  },
  {
   "cell_type": "code",
   "execution_count": 54,
   "id": "df4e07d4",
   "metadata": {},
   "outputs": [
    {
     "data": {
      "text/html": [
       "<div>\n",
       "<style scoped>\n",
       "    .dataframe tbody tr th:only-of-type {\n",
       "        vertical-align: middle;\n",
       "    }\n",
       "\n",
       "    .dataframe tbody tr th {\n",
       "        vertical-align: top;\n",
       "    }\n",
       "\n",
       "    .dataframe thead th {\n",
       "        text-align: right;\n",
       "    }\n",
       "</style>\n",
       "<table border=\"1\" class=\"dataframe\">\n",
       "  <thead>\n",
       "    <tr style=\"text-align: right;\">\n",
       "      <th></th>\n",
       "      <th>Id</th>\n",
       "      <th>Churn</th>\n",
       "    </tr>\n",
       "  </thead>\n",
       "  <tbody>\n",
       "    <tr>\n",
       "      <th>0</th>\n",
       "      <td>0</td>\n",
       "      <td>0.048219</td>\n",
       "    </tr>\n",
       "    <tr>\n",
       "      <th>1</th>\n",
       "      <td>1</td>\n",
       "      <td>0.641536</td>\n",
       "    </tr>\n",
       "    <tr>\n",
       "      <th>2</th>\n",
       "      <td>2</td>\n",
       "      <td>0.640218</td>\n",
       "    </tr>\n",
       "    <tr>\n",
       "      <th>3</th>\n",
       "      <td>3</td>\n",
       "      <td>0.018666</td>\n",
       "    </tr>\n",
       "    <tr>\n",
       "      <th>4</th>\n",
       "      <td>4</td>\n",
       "      <td>0.010017</td>\n",
       "    </tr>\n",
       "  </tbody>\n",
       "</table>\n",
       "</div>"
      ],
      "text/plain": [
       "   Id     Churn\n",
       "0   0  0.048219\n",
       "1   1  0.641536\n",
       "2   2  0.640218\n",
       "3   3  0.018666\n",
       "4   4  0.010017"
      ]
     },
     "execution_count": 54,
     "metadata": {},
     "output_type": "execute_result"
    }
   ],
   "source": [
    "data_test = pd.read_csv('./test.csv')\n",
    "submission = pd.read_csv('./submission.csv')\n",
    "\n",
    "data_test[\"TotalSpent\"] = data_test[\"TotalSpent\"].apply(pd.to_numeric,errors='coerce')\n",
    "data_test[\"TotalSpent\"] = data_test[\"TotalSpent\"].astype('float64')\n",
    "data_test['TotalSpent'].fillna(value=data_test['TotalSpent'].mean(), inplace=True)\n",
    "\n",
    "submission['Churn'] = best_model.predict_proba(data_test)[:, 1]\n",
    "submission.to_csv('./my_submission.csv', index=False)\n",
    "submission.head(5)"
   ]
  },
  {
   "cell_type": "markdown",
   "id": "b57df298",
   "metadata": {},
   "source": [
    "# Kaggle\n",
    "Дарья_Рузанова, 0.85160"
   ]
  },
  {
   "cell_type": "code",
   "execution_count": null,
   "id": "c0dcdd1d",
   "metadata": {},
   "outputs": [],
   "source": []
  }
 ],
 "metadata": {
  "kernelspec": {
   "display_name": "Python 3 (ipykernel)",
   "language": "python",
   "name": "python3"
  },
  "language_info": {
   "codemirror_mode": {
    "name": "ipython",
    "version": 3
   },
   "file_extension": ".py",
   "mimetype": "text/x-python",
   "name": "python",
   "nbconvert_exporter": "python",
   "pygments_lexer": "ipython3",
   "version": "3.9.7"
  }
 },
 "nbformat": 4,
 "nbformat_minor": 5
}
