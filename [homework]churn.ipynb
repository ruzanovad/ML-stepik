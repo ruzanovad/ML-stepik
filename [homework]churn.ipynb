{
 "cells":[
  {
   "cell_type":"code",
   "source":[
    "import pandas as pd\n",
    "import numpy as np\n",
    "from matplotlib import pyplot as plt\n",
    "import warnings\n",
    "\n",
    "warnings.filterwarnings('ignore')\n",
    "\n",
    "submission_path = 'input\/submission.csv'\n",
    "test_path = 'input\/test.csv'\n",
    "train_path = 'input\/train.csv'"
   ],
   "execution_count":2,
   "outputs":[
    
   ],
   "metadata":{
    "datalore":{
     "node_id":"f7UOduuverDYsATKbCu4Iv",
     "type":"CODE",
     "hide_input_from_viewers":false,
     "hide_output_from_viewers":false,
     "report_properties":{
      "rowId":"uUBWv21AWKexFUK5X6Wi5h"
     }
    }
   }
  },
  {
   "cell_type":"markdown",
   "source":[
    "# Data Loading"
   ],
   "attachments":{
    
   },
   "metadata":{
    "datalore":{
     "node_id":"lVW48Unpdz98wqnfFUx0Tw",
     "type":"MD",
     "hide_input_from_viewers":false,
     "hide_output_from_viewers":false,
     "report_properties":{
      "rowId":"fVKRAf4PXx8VRhuGstFXj6"
     }
    }
   }
  },
  {
   "cell_type":"code",
   "source":[
    "data_train = pd.read_csv(train_path)"
   ],
   "execution_count":3,
   "outputs":[
    
   ],
   "metadata":{
    "datalore":{
     "node_id":"JIaOBoki2ZBn4fKGPSrWox",
     "type":"CODE",
     "hide_input_from_viewers":false,
     "hide_output_from_viewers":false,
     "report_properties":{
      "rowId":"I4GnGgMrkZ0IwgJvcYi7eF"
     }
    }
   }
  },
  {
   "cell_type":"markdown",
   "source":[
    "1) Посмотрите на случайные строчки."
   ],
   "attachments":{
    
   },
   "metadata":{
    "datalore":{
     "node_id":"BbPS7GVngK30lIungDIj30",
     "type":"MD",
     "hide_input_from_viewers":false,
     "hide_output_from_viewers":false,
     "report_properties":{
      "rowId":"OjvCbKFiFtKEGfSvjCeJEi"
     }
    }
   }
  },
  {
   "cell_type":"code",
   "source":[
    "data_train.info()"
   ],
   "execution_count":4,
   "outputs":[
    {
     "name":"stdout",
     "text":[
      "<class 'pandas.core.frame.DataFrame'>\n",
      "RangeIndex: 5282 entries, 0 to 5281\n",
      "Data columns (total 20 columns):\n",
      " #   Column                    Non-Null Count  Dtype  \n",
      "---  ------                    --------------  -----  \n",
      " 0   ClientPeriod              5282 non-null   int64  \n",
      " 1   MonthlySpending           5282 non-null   float64\n",
      " 2   TotalSpent                5282 non-null   object \n",
      " 3   Sex                       5282 non-null   object \n",
      " 4   IsSeniorCitizen           5282 non-null   int64  \n",
      " 5   HasPartner                5282 non-null   object \n",
      " 6   HasChild                  5282 non-null   object \n",
      " 7   HasPhoneService           5282 non-null   object \n",
      " 8   HasMultiplePhoneNumbers   5282 non-null   object \n",
      " 9   HasInternetService        5282 non-null   object \n",
      " 10  HasOnlineSecurityService  5282 non-null   object \n",
      " 11  HasOnlineBackup           5282 non-null   object \n",
      " 12  HasDeviceProtection       5282 non-null   object \n",
      " 13  HasTechSupportAccess      5282 non-null   object \n",
      " 14  HasOnlineTV               5282 non-null   object \n",
      " 15  HasMovieSubscription      5282 non-null   object \n",
      " 16  HasContractPhone          5282 non-null   object \n",
      " 17  IsBillingPaperless        5282 non-null   object \n",
      " 18  PaymentMethod             5282 non-null   object \n",
      " 19  Churn                     5282 non-null   int64  \n",
      "dtypes: float64(1), int64(3), object(16)\n",
      "memory usage: 825.4+ KB\n"
     ],
     "output_type":"stream"
    }
   ],
   "metadata":{
    "datalore":{
     "node_id":"Dk5gcVymhQQHzmhdNdKCt0",
     "type":"CODE",
     "hide_input_from_viewers":false,
     "hide_output_from_viewers":false,
     "report_properties":{
      "rowId":"T0kk5zlhI0NJcgGzw38kJ8"
     }
    }
   }
  },
  {
   "cell_type":"code",
   "source":[
    "data_train.sample(10)"
   ],
   "execution_count":5,
   "outputs":[
    {
     "data":{
      "text\/html":[
       "<div>\n",
       "<style scoped>\n",
       "    .dataframe tbody tr th:only-of-type {\n",
       "        vertical-align: middle;\n",
       "    }\n",
       "\n",
       "    .dataframe tbody tr th {\n",
       "        vertical-align: top;\n",
       "    }\n",
       "\n",
       "    .dataframe thead th {\n",
       "        text-align: right;\n",
       "    }\n",
       "<\/style>\n",
       "<table border=\"1\" class=\"dataframe\">\n",
       "  <thead>\n",
       "    <tr style=\"text-align: right;\">\n",
       "      <th><\/th>\n",
       "      <th>ClientPeriod<\/th>\n",
       "      <th>MonthlySpending<\/th>\n",
       "      <th>TotalSpent<\/th>\n",
       "      <th>Sex<\/th>\n",
       "      <th>IsSeniorCitizen<\/th>\n",
       "      <th>HasPartner<\/th>\n",
       "      <th>HasChild<\/th>\n",
       "      <th>HasPhoneService<\/th>\n",
       "      <th>HasMultiplePhoneNumbers<\/th>\n",
       "      <th>HasInternetService<\/th>\n",
       "      <th>HasOnlineSecurityService<\/th>\n",
       "      <th>HasOnlineBackup<\/th>\n",
       "      <th>HasDeviceProtection<\/th>\n",
       "      <th>HasTechSupportAccess<\/th>\n",
       "      <th>HasOnlineTV<\/th>\n",
       "      <th>HasMovieSubscription<\/th>\n",
       "      <th>HasContractPhone<\/th>\n",
       "      <th>IsBillingPaperless<\/th>\n",
       "      <th>PaymentMethod<\/th>\n",
       "      <th>Churn<\/th>\n",
       "    <\/tr>\n",
       "  <\/thead>\n",
       "  <tbody>\n",
       "    <tr>\n",
       "      <th>2080<\/th>\n",
       "      <td>1<\/td>\n",
       "      <td>71.65<\/td>\n",
       "      <td>71.65<\/td>\n",
       "      <td>Male<\/td>\n",
       "      <td>0<\/td>\n",
       "      <td>No<\/td>\n",
       "      <td>Yes<\/td>\n",
       "      <td>Yes<\/td>\n",
       "      <td>No<\/td>\n",
       "      <td>Fiber optic<\/td>\n",
       "      <td>No<\/td>\n",
       "      <td>No<\/td>\n",
       "      <td>No<\/td>\n",
       "      <td>No<\/td>\n",
       "      <td>No<\/td>\n",
       "      <td>No<\/td>\n",
       "      <td>Month-to-month<\/td>\n",
       "      <td>Yes<\/td>\n",
       "      <td>Electronic check<\/td>\n",
       "      <td>1<\/td>\n",
       "    <\/tr>\n",
       "    <tr>\n",
       "      <th>2192<\/th>\n",
       "      <td>23<\/td>\n",
       "      <td>95.30<\/td>\n",
       "      <td>2192.9<\/td>\n",
       "      <td>Male<\/td>\n",
       "      <td>0<\/td>\n",
       "      <td>No<\/td>\n",
       "      <td>No<\/td>\n",
       "      <td>Yes<\/td>\n",
       "      <td>No<\/td>\n",
       "      <td>Fiber optic<\/td>\n",
       "      <td>No<\/td>\n",
       "      <td>Yes<\/td>\n",
       "      <td>No<\/td>\n",
       "      <td>No<\/td>\n",
       "      <td>Yes<\/td>\n",
       "      <td>Yes<\/td>\n",
       "      <td>Month-to-month<\/td>\n",
       "      <td>No<\/td>\n",
       "      <td>Mailed check<\/td>\n",
       "      <td>0<\/td>\n",
       "    <\/tr>\n",
       "    <tr>\n",
       "      <th>1486<\/th>\n",
       "      <td>8<\/td>\n",
       "      <td>74.85<\/td>\n",
       "      <td>572.45<\/td>\n",
       "      <td>Male<\/td>\n",
       "      <td>0<\/td>\n",
       "      <td>No<\/td>\n",
       "      <td>No<\/td>\n",
       "      <td>Yes<\/td>\n",
       "      <td>Yes<\/td>\n",
       "      <td>Fiber optic<\/td>\n",
       "      <td>No<\/td>\n",
       "      <td>No<\/td>\n",
       "      <td>No<\/td>\n",
       "      <td>No<\/td>\n",
       "      <td>No<\/td>\n",
       "      <td>No<\/td>\n",
       "      <td>Month-to-month<\/td>\n",
       "      <td>Yes<\/td>\n",
       "      <td>Electronic check<\/td>\n",
       "      <td>0<\/td>\n",
       "    <\/tr>\n",
       "    <tr>\n",
       "      <th>2359<\/th>\n",
       "      <td>48<\/td>\n",
       "      <td>20.00<\/td>\n",
       "      <td>935.9<\/td>\n",
       "      <td>Female<\/td>\n",
       "      <td>0<\/td>\n",
       "      <td>Yes<\/td>\n",
       "      <td>Yes<\/td>\n",
       "      <td>Yes<\/td>\n",
       "      <td>No<\/td>\n",
       "      <td>No<\/td>\n",
       "      <td>No internet service<\/td>\n",
       "      <td>No internet service<\/td>\n",
       "      <td>No internet service<\/td>\n",
       "      <td>No internet service<\/td>\n",
       "      <td>No internet service<\/td>\n",
       "      <td>No internet service<\/td>\n",
       "      <td>Two year<\/td>\n",
       "      <td>No<\/td>\n",
       "      <td>Mailed check<\/td>\n",
       "      <td>0<\/td>\n",
       "    <\/tr>\n",
       "    <tr>\n",
       "      <th>1484<\/th>\n",
       "      <td>16<\/td>\n",
       "      <td>19.60<\/td>\n",
       "      <td>314.45<\/td>\n",
       "      <td>Female<\/td>\n",
       "      <td>0<\/td>\n",
       "      <td>Yes<\/td>\n",
       "      <td>No<\/td>\n",
       "      <td>Yes<\/td>\n",
       "      <td>No<\/td>\n",
       "      <td>No<\/td>\n",
       "      <td>No internet service<\/td>\n",
       "      <td>No internet service<\/td>\n",
       "      <td>No internet service<\/td>\n",
       "      <td>No internet service<\/td>\n",
       "      <td>No internet service<\/td>\n",
       "      <td>No internet service<\/td>\n",
       "      <td>Month-to-month<\/td>\n",
       "      <td>No<\/td>\n",
       "      <td>Mailed check<\/td>\n",
       "      <td>0<\/td>\n",
       "    <\/tr>\n",
       "    <tr>\n",
       "      <th>4298<\/th>\n",
       "      <td>60<\/td>\n",
       "      <td>25.00<\/td>\n",
       "      <td>1505.05<\/td>\n",
       "      <td>Female<\/td>\n",
       "      <td>0<\/td>\n",
       "      <td>No<\/td>\n",
       "      <td>No<\/td>\n",
       "      <td>Yes<\/td>\n",
       "      <td>Yes<\/td>\n",
       "      <td>No<\/td>\n",
       "      <td>No internet service<\/td>\n",
       "      <td>No internet service<\/td>\n",
       "      <td>No internet service<\/td>\n",
       "      <td>No internet service<\/td>\n",
       "      <td>No internet service<\/td>\n",
       "      <td>No internet service<\/td>\n",
       "      <td>Two year<\/td>\n",
       "      <td>No<\/td>\n",
       "      <td>Mailed check<\/td>\n",
       "      <td>0<\/td>\n",
       "    <\/tr>\n",
       "    <tr>\n",
       "      <th>3519<\/th>\n",
       "      <td>72<\/td>\n",
       "      <td>90.80<\/td>\n",
       "      <td>6397.6<\/td>\n",
       "      <td>Male<\/td>\n",
       "      <td>0<\/td>\n",
       "      <td>Yes<\/td>\n",
       "      <td>Yes<\/td>\n",
       "      <td>Yes<\/td>\n",
       "      <td>Yes<\/td>\n",
       "      <td>DSL<\/td>\n",
       "      <td>Yes<\/td>\n",
       "      <td>Yes<\/td>\n",
       "      <td>Yes<\/td>\n",
       "      <td>Yes<\/td>\n",
       "      <td>Yes<\/td>\n",
       "      <td>Yes<\/td>\n",
       "      <td>Two year<\/td>\n",
       "      <td>Yes<\/td>\n",
       "      <td>Credit card (automatic)<\/td>\n",
       "      <td>0<\/td>\n",
       "    <\/tr>\n",
       "    <tr>\n",
       "      <th>4319<\/th>\n",
       "      <td>2<\/td>\n",
       "      <td>20.30<\/td>\n",
       "      <td>40.25<\/td>\n",
       "      <td>Male<\/td>\n",
       "      <td>0<\/td>\n",
       "      <td>Yes<\/td>\n",
       "      <td>Yes<\/td>\n",
       "      <td>Yes<\/td>\n",
       "      <td>No<\/td>\n",
       "      <td>No<\/td>\n",
       "      <td>No internet service<\/td>\n",
       "      <td>No internet service<\/td>\n",
       "      <td>No internet service<\/td>\n",
       "      <td>No internet service<\/td>\n",
       "      <td>No internet service<\/td>\n",
       "      <td>No internet service<\/td>\n",
       "      <td>Month-to-month<\/td>\n",
       "      <td>No<\/td>\n",
       "      <td>Mailed check<\/td>\n",
       "      <td>0<\/td>\n",
       "    <\/tr>\n",
       "    <tr>\n",
       "      <th>2507<\/th>\n",
       "      <td>52<\/td>\n",
       "      <td>93.25<\/td>\n",
       "      <td>4631.7<\/td>\n",
       "      <td>Male<\/td>\n",
       "      <td>0<\/td>\n",
       "      <td>Yes<\/td>\n",
       "      <td>Yes<\/td>\n",
       "      <td>Yes<\/td>\n",
       "      <td>Yes<\/td>\n",
       "      <td>Fiber optic<\/td>\n",
       "      <td>No<\/td>\n",
       "      <td>Yes<\/td>\n",
       "      <td>No<\/td>\n",
       "      <td>Yes<\/td>\n",
       "      <td>No<\/td>\n",
       "      <td>Yes<\/td>\n",
       "      <td>Month-to-month<\/td>\n",
       "      <td>Yes<\/td>\n",
       "      <td>Bank transfer (automatic)<\/td>\n",
       "      <td>0<\/td>\n",
       "    <\/tr>\n",
       "    <tr>\n",
       "      <th>2937<\/th>\n",
       "      <td>66<\/td>\n",
       "      <td>102.40<\/td>\n",
       "      <td>6471.85<\/td>\n",
       "      <td>Female<\/td>\n",
       "      <td>1<\/td>\n",
       "      <td>No<\/td>\n",
       "      <td>No<\/td>\n",
       "      <td>Yes<\/td>\n",
       "      <td>Yes<\/td>\n",
       "      <td>Fiber optic<\/td>\n",
       "      <td>Yes<\/td>\n",
       "      <td>No<\/td>\n",
       "      <td>No<\/td>\n",
       "      <td>No<\/td>\n",
       "      <td>Yes<\/td>\n",
       "      <td>Yes<\/td>\n",
       "      <td>Two year<\/td>\n",
       "      <td>Yes<\/td>\n",
       "      <td>Bank transfer (automatic)<\/td>\n",
       "      <td>0<\/td>\n",
       "    <\/tr>\n",
       "  <\/tbody>\n",
       "<\/table>\n",
       "<\/div>"
      ]
     },
     "metadata":{
      
     },
     "output_type":"display_data"
    }
   ],
   "metadata":{
    "datalore":{
     "node_id":"b4jGz9YgqDiOXgd6sBEFYn",
     "type":"CODE",
     "hide_input_from_viewers":true,
     "hide_output_from_viewers":true
    }
   }
  },
  {
   "cell_type":"code",
   "source":[
    "# Числовые признаки\n",
    "num_cols = [\n",
    "    'ClientPeriod',\n",
    "    'MonthlySpending',\n",
    "    'TotalSpent'\n",
    "]\n",
    "\n",
    "# Категориальные признаки\n",
    "cat_cols = [\n",
    "    'Sex',\n",
    "    'IsSeniorCitizen',\n",
    "    'HasPartner',\n",
    "    'HasChild',\n",
    "    'HasPhoneService',\n",
    "    'HasMultiplePhoneNumbers',\n",
    "    'HasInternetService',\n",
    "    'HasOnlineSecurityService',\n",
    "    'HasOnlineBackup',\n",
    "    'HasDeviceProtection',\n",
    "    'HasTechSupportAccess',\n",
    "    'HasOnlineTV',\n",
    "    'HasMovieSubscription',\n",
    "    'HasContractPhone',\n",
    "    'IsBillingPaperless',\n",
    "    'PaymentMethod'\n",
    "]\n",
    "\n",
    "feature_cols = num_cols + cat_cols\n",
    "target_col = 'Churn'"
   ],
   "execution_count":6,
   "outputs":[
    
   ],
   "metadata":{
    "datalore":{
     "node_id":"kS9NiLjbZXnTskQS1T6m31",
     "type":"CODE",
     "hide_input_from_viewers":false,
     "hide_output_from_viewers":false,
     "report_properties":{
      "rowId":"ztuFmbwE8zDjBVMFs070fG"
     }
    }
   }
  },
  {
   "cell_type":"markdown",
   "source":[
    "2) Посмотрите, есть ли в датасете незаполненные значения (nan'ы) с помощью data.isna() или data.info() и, если нужно, замените их на что-то. Будет хорошо, если вы построите табличку с количеством nan в каждой колонке."
   ],
   "attachments":{
    
   },
   "metadata":{
    "datalore":{
     "node_id":"KsgmEVl8hYg98D0EbKmGjk",
     "type":"MD",
     "hide_input_from_viewers":false,
     "hide_output_from_viewers":false,
     "report_properties":{
      "rowId":"jhzJ1bnfjjchl4yeu9GCYj"
     }
    }
   }
  },
  {
   "cell_type":"code",
   "source":[
    "data_train.isnull().sum()"
   ],
   "execution_count":7,
   "outputs":[
    {
     "data":{
      "text\/html":[
       "<pre>ClientPeriod                0\n",
       "MonthlySpending             0\n",
       "TotalSpent                  0\n",
       "Sex                         0\n",
       "IsSeniorCitizen             0\n",
       "HasPartner                  0\n",
       "HasChild                    0\n",
       "HasPhoneService             0\n",
       "HasMultiplePhoneNumbers     0\n",
       "HasInternetService          0\n",
       "HasOnlineSecurityService    0\n",
       "HasOnlineBackup             0\n",
       "HasDeviceProtection         0\n",
       "HasTechSupportAccess        0\n",
       "HasOnlineTV                 0\n",
       "HasMovieSubscription        0\n",
       "HasContractPhone            0\n",
       "IsBillingPaperless          0\n",
       "PaymentMethod               0\n",
       "Churn                       0\n",
       "dtype: int64<\/pre>"
      ]
     },
     "metadata":{
      
     },
     "output_type":"display_data"
    }
   ],
   "metadata":{
    "datalore":{
     "node_id":"7Q4rvGjVPLHRTgBiMsEcga",
     "type":"CODE",
     "hide_input_from_viewers":false,
     "hide_output_from_viewers":false,
     "report_properties":{
      "rowId":"TEGp35vyiU7GRifxmYi9Fc"
     }
    }
   }
  },
  {
   "cell_type":"markdown",
   "source":[
    "NaN'ов не обнаружено."
   ],
   "attachments":{
    
   },
   "metadata":{
    "datalore":{
     "node_id":"dzVxVvtxpMlyMyomrfY8xd",
     "type":"MD",
     "hide_input_from_viewers":false,
     "hide_output_from_viewers":false,
     "report_properties":{
      "rowId":"HDXCpLdLEdUuBTlAzZWi59"
     }
    }
   }
  },
  {
   "cell_type":"code",
   "source":[
    "(data_train == ' ').sum()"
   ],
   "execution_count":8,
   "outputs":[
    {
     "data":{
      "text\/html":[
       "<pre>ClientPeriod                0\n",
       "MonthlySpending             0\n",
       "TotalSpent                  9\n",
       "Sex                         0\n",
       "IsSeniorCitizen             0\n",
       "HasPartner                  0\n",
       "HasChild                    0\n",
       "HasPhoneService             0\n",
       "HasMultiplePhoneNumbers     0\n",
       "HasInternetService          0\n",
       "HasOnlineSecurityService    0\n",
       "HasOnlineBackup             0\n",
       "HasDeviceProtection         0\n",
       "HasTechSupportAccess        0\n",
       "HasOnlineTV                 0\n",
       "HasMovieSubscription        0\n",
       "HasContractPhone            0\n",
       "IsBillingPaperless          0\n",
       "PaymentMethod               0\n",
       "Churn                       0\n",
       "dtype: int64<\/pre>"
      ]
     },
     "metadata":{
      
     },
     "output_type":"display_data"
    }
   ],
   "metadata":{
    "datalore":{
     "node_id":"OcGN2V4xxkFytAp7j1uSQu",
     "type":"CODE",
     "hide_input_from_viewers":false,
     "hide_output_from_viewers":false,
     "report_properties":{
      "rowId":"KmGVqrhT68NGyhEV6FsLzt"
     }
    }
   }
  },
  {
   "cell_type":"markdown",
   "source":[
    "Однако в столбце TotalSpent есть пробелы. Заменим их на среднее арифметическое:"
   ],
   "attachments":{
    
   },
   "metadata":{
    "datalore":{
     "node_id":"MxWLpBqu8v93DylCSu26mT",
     "type":"MD",
     "hide_input_from_viewers":false,
     "hide_output_from_viewers":false,
     "report_properties":{
      "rowId":"qKVD7DsCXUEHI1YHH16yQl"
     }
    }
   }
  },
  {
   "cell_type":"code",
   "source":[
    "data_train[\"TotalSpent\"] = data_train[\"TotalSpent\"].apply(pd.to_numeric,errors='coerce')\n",
    "data_train[\"TotalSpent\"] = data_train[\"TotalSpent\"].astype('float64')\n",
    "data_train['TotalSpent'].fillna(value=data_train['TotalSpent'].mean(), inplace=True)\n",
    "\n",
    "(data_train == ' ').sum()"
   ],
   "execution_count":9,
   "outputs":[
    {
     "data":{
      "text\/html":[
       "<pre>ClientPeriod                0\n",
       "MonthlySpending             0\n",
       "TotalSpent                  0\n",
       "Sex                         0\n",
       "IsSeniorCitizen             0\n",
       "HasPartner                  0\n",
       "HasChild                    0\n",
       "HasPhoneService             0\n",
       "HasMultiplePhoneNumbers     0\n",
       "HasInternetService          0\n",
       "HasOnlineSecurityService    0\n",
       "HasOnlineBackup             0\n",
       "HasDeviceProtection         0\n",
       "HasTechSupportAccess        0\n",
       "HasOnlineTV                 0\n",
       "HasMovieSubscription        0\n",
       "HasContractPhone            0\n",
       "IsBillingPaperless          0\n",
       "PaymentMethod               0\n",
       "Churn                       0\n",
       "dtype: int64<\/pre>"
      ]
     },
     "metadata":{
      
     },
     "output_type":"display_data"
    }
   ],
   "metadata":{
    "datalore":{
     "node_id":"CEIHrWzWOmGrHL15KxiFqD",
     "type":"CODE",
     "hide_input_from_viewers":false,
     "hide_output_from_viewers":false,
     "report_properties":{
      "rowId":"5Omn6EwaroaT4eN0pNYshz"
     }
    }
   }
  },
  {
   "cell_type":"markdown",
   "source":[
    "# Data Analysis"
   ],
   "attachments":{
    
   },
   "metadata":{
    "datalore":{
     "node_id":"1mpAoqgoAUoITl5eSe2Qds",
     "type":"MD",
     "hide_input_from_viewers":false,
     "hide_output_from_viewers":false,
     "report_properties":{
      "rowId":"BRKc3GLn9EvQBs6lPawd10"
     }
    }
   }
  },
  {
   "cell_type":"markdown",
   "source":[
    "Изучим числовые признаки:"
   ],
   "attachments":{
    
   },
   "metadata":{
    "datalore":{
     "node_id":"0LWU1FwbztZEQ1u1yzVzxH",
     "type":"MD",
     "hide_input_from_viewers":false,
     "hide_output_from_viewers":false,
     "report_properties":{
      "rowId":"OMl8rymy5DNgp9yD5HzsKo"
     }
    }
   }
  },
  {
   "cell_type":"code",
   "source":[
    "data_train[num_cols]"
   ],
   "execution_count":10,
   "outputs":[
    {
     "data":{
      "text\/html":[
       "<div>\n",
       "<style scoped>\n",
       "    .dataframe tbody tr th:only-of-type {\n",
       "        vertical-align: middle;\n",
       "    }\n",
       "\n",
       "    .dataframe tbody tr th {\n",
       "        vertical-align: top;\n",
       "    }\n",
       "\n",
       "    .dataframe thead th {\n",
       "        text-align: right;\n",
       "    }\n",
       "<\/style>\n",
       "<table border=\"1\" class=\"dataframe\">\n",
       "  <thead>\n",
       "    <tr style=\"text-align: right;\">\n",
       "      <th><\/th>\n",
       "      <th>ClientPeriod<\/th>\n",
       "      <th>MonthlySpending<\/th>\n",
       "      <th>TotalSpent<\/th>\n",
       "    <\/tr>\n",
       "  <\/thead>\n",
       "  <tbody>\n",
       "    <tr>\n",
       "      <th>0<\/th>\n",
       "      <td>55<\/td>\n",
       "      <td>19.50<\/td>\n",
       "      <td>1026.35<\/td>\n",
       "    <\/tr>\n",
       "    <tr>\n",
       "      <th>1<\/th>\n",
       "      <td>72<\/td>\n",
       "      <td>25.85<\/td>\n",
       "      <td>1872.20<\/td>\n",
       "    <\/tr>\n",
       "    <tr>\n",
       "      <th>2<\/th>\n",
       "      <td>1<\/td>\n",
       "      <td>75.90<\/td>\n",
       "      <td>75.90<\/td>\n",
       "    <\/tr>\n",
       "    <tr>\n",
       "      <th>3<\/th>\n",
       "      <td>32<\/td>\n",
       "      <td>79.30<\/td>\n",
       "      <td>2570.00<\/td>\n",
       "    <\/tr>\n",
       "    <tr>\n",
       "      <th>4<\/th>\n",
       "      <td>60<\/td>\n",
       "      <td>115.25<\/td>\n",
       "      <td>6758.45<\/td>\n",
       "    <\/tr>\n",
       "    <tr>\n",
       "      <th>...<\/th>\n",
       "      <td>...<\/td>\n",
       "      <td>...<\/td>\n",
       "      <td>...<\/td>\n",
       "    <\/tr>\n",
       "    <tr>\n",
       "      <th>5277<\/th>\n",
       "      <td>3<\/td>\n",
       "      <td>30.40<\/td>\n",
       "      <td>82.15<\/td>\n",
       "    <\/tr>\n",
       "    <tr>\n",
       "      <th>5278<\/th>\n",
       "      <td>50<\/td>\n",
       "      <td>44.45<\/td>\n",
       "      <td>2188.45<\/td>\n",
       "    <\/tr>\n",
       "    <tr>\n",
       "      <th>5279<\/th>\n",
       "      <td>1<\/td>\n",
       "      <td>55.05<\/td>\n",
       "      <td>55.05<\/td>\n",
       "    <\/tr>\n",
       "    <tr>\n",
       "      <th>5280<\/th>\n",
       "      <td>29<\/td>\n",
       "      <td>76.00<\/td>\n",
       "      <td>2215.25<\/td>\n",
       "    <\/tr>\n",
       "    <tr>\n",
       "      <th>5281<\/th>\n",
       "      <td>19<\/td>\n",
       "      <td>75.90<\/td>\n",
       "      <td>1375.60<\/td>\n",
       "    <\/tr>\n",
       "  <\/tbody>\n",
       "<\/table>\n",
       "<p>5282 rows × 3 columns<\/p>\n",
       "<\/div>"
      ]
     },
     "metadata":{
      
     },
     "output_type":"display_data"
    }
   ],
   "metadata":{
    "datalore":{
     "node_id":"6AuV7RWzw92zTG9Mjp7AWA",
     "type":"CODE",
     "hide_input_from_viewers":false,
     "hide_output_from_viewers":false,
     "report_properties":{
      "rowId":"QZt3qPW3tpZrd1eJ5s4ts5"
     }
    }
   }
  },
  {
   "cell_type":"markdown",
   "source":[
    "1) Для численных признаков постройте гистограмму (plt.hist(...)) или boxplot (plt.boxplot(...)). "
   ],
   "attachments":{
    
   },
   "metadata":{
    "datalore":{
     "node_id":"Vpn2PhTF4tnKdKjwxIFr7t",
     "type":"MD",
     "hide_input_from_viewers":false,
     "hide_output_from_viewers":false,
     "report_properties":{
      "rowId":"vIxOg4bYwRp6wmRlnHtEOE"
     }
    }
   }
  },
  {
   "cell_type":"code",
   "source":[
    "def get_cmap(n, name='cubehelix'): #цветовая тема\n",
    "    return plt.cm.get_cmap(name, n)\n",
    "\n",
    "colors = get_cmap(3)\n",
    "\n",
    "fig, axes = plt.subplots(nrows=1, ncols=3, figsize=(15, 3))\n",
    "fig.suptitle('Distribution of numerical features')\n",
    "\n",
    "\n",
    "for index, axis in enumerate(axes):\n",
    "    axis.hist(data_train[num_cols[index]], color = colors(index), ec=\"black\")\n",
    "    axis.set_xlabel(num_cols[index])"
   ],
   "execution_count":11,
   "outputs":[
    {
     "data":{
      "image\/png":"[encoded data removed]"
     },
     "metadata":{
      "image\/png":{
       
      }
     },
     "output_type":"display_data"
    }
   ],
   "metadata":{
    "datalore":{
     "node_id":"rkPIQMqn6uPeW1wGPuyfkW",
     "type":"CODE",
     "hide_input_from_viewers":false,
     "hide_output_from_viewers":false,
     "report_properties":{
      "rowId":"tz2giB5NWTtPx89ATlWrjQ"
     }
    }
   }
  },
  {
   "cell_type":"markdown",
   "source":[
    "Для категориальных посчитайте количество каждого значения для каждого признака. Для каждой колонки надо сделать data.value_counts() и построить bar диаграммы plt.bar(...) или круговые диаграммы plt.pie(...) (хорошо, если вы сможете это сделать на одном графике с помощью plt.subplots(...))."
   ],
   "attachments":{
    
   },
   "metadata":{
    "datalore":{
     "node_id":"mrzghCZYwGtYFIENfj8yAK",
     "type":"MD",
     "hide_input_from_viewers":false,
     "hide_output_from_viewers":false,
     "report_properties":{
      "rowId":"e9NmYdstBIKzvXrhW6qeFs"
     }
    }
   }
  },
  {
   "cell_type":"code",
   "source":[
    "fig, axes = plt.subplots(nrows=4, ncols=4, figsize=(15,15))\n",
    "fig.suptitle('Distribution of categorical features')\n",
    "\n",
    "colors = get_cmap(16)\n",
    "for index, axis in enumerate(cat_cols):\n",
    "    row, col = index%4, index\/\/4\n",
    "    axes[row, col].set_prop_cycle(\"color\", plt.cm.magma_r(np.linspace(0,10,30)))\n",
    "    axes[row, col].pie(data_train[cat_cols[index]].value_counts(), labels = data_train[axis].value_counts())\n",
    "    axes[row, col].set_xlabel(cat_cols[index])\n",
    "    axes[row, col].legend()"
   ],
   "execution_count":12,
   "outputs":[
    {
     "data":{
      "image\/png":"[encoded data removed]"
     },
     "metadata":{
      "image\/png":{
       
      }
     },
     "output_type":"display_data"
    }
   ],
   "metadata":{
    "datalore":{
     "node_id":"6IpaAAyUbeKvivW2pxASp7",
     "type":"CODE",
     "hide_input_from_viewers":false,
     "hide_output_from_viewers":false,
     "report_properties":{
      "rowId":"FToFgba5McFLhAbuQx0VRC"
     }
    }
   }
  },
  {
   "cell_type":"markdown",
   "source":[
    "2) Посмотрите на распределение целевой переменной и скажите, являются ли классы несбалансированными."
   ],
   "attachments":{
    
   },
   "metadata":{
    "datalore":{
     "node_id":"C1uTDLhREYK9MdI37U26v3",
     "type":"MD",
     "hide_input_from_viewers":false,
     "hide_output_from_viewers":false,
     "report_properties":{
      "rowId":"1aE1T13rnKGlaSeoc4poyB"
     }
    }
   }
  },
  {
   "cell_type":"code",
   "source":[
    "data_train[target_col].hist()"
   ],
   "execution_count":13,
   "outputs":[
    {
     "data":{
      "text\/plain":[
       "<Axes: >"
      ]
     },
     "metadata":{
      
     },
     "output_type":"display_data"
    },
    {
     "data":{
      "image\/png":"[encoded data removed]"
     },
     "metadata":{
      "image\/png":{
       
      }
     },
     "output_type":"display_data"
    }
   ],
   "metadata":{
    "datalore":{
     "node_id":"NyWZ9d1VPXTMkhkSlepXrB",
     "type":"CODE",
     "hide_input_from_viewers":false,
     "hide_output_from_viewers":false,
     "report_properties":{
      "rowId":"wbeMR4AQjIbmjUofAURj7F"
     }
    }
   }
  },
  {
   "cell_type":"code",
   "source":[
    "target_rate = data_train[data_train.Churn == 1].shape[0]\/data_train.shape[0]\n",
    "target_rate"
   ],
   "execution_count":14,
   "outputs":[
    {
     "data":{
      "text\/plain":[
       "0.26202196137826583"
      ]
     },
     "metadata":{
      
     },
     "output_type":"display_data"
    }
   ],
   "metadata":{
    "datalore":{
     "node_id":"1ACE4cGKkLQ2lx6RZsyfDK",
     "type":"CODE",
     "hide_input_from_viewers":false,
     "hide_output_from_viewers":false,
     "report_properties":{
      "rowId":"rACkF6IEZ5anP2g1Dhjzid"
     }
    }
   }
  },
  {
   "cell_type":"markdown",
   "source":[
    "Классы не являются несбалансированными (разница не слишком велика)."
   ],
   "attachments":{
    
   },
   "metadata":{
    "datalore":{
     "node_id":"6pcmwSa7GJAuMce1aZWbNU",
     "type":"MD",
     "hide_input_from_viewers":false,
     "hide_output_from_viewers":false,
     "report_properties":{
      "rowId":"8NiTfXml5IPG5h5xZb0Rvt"
     }
    }
   }
  },
  {
   "cell_type":"markdown",
   "source":[
    "# Logistic Regression\n",
    "1) Обработайте данные для того, чтобы к ним можно было применить LogisticRegression. Т.е. отнормируйте числовые признаки, а категориальные закодируйте с помощью one-hot-encoding'а."
   ],
   "attachments":{
    
   },
   "metadata":{
    "datalore":{
     "node_id":"AX35WicTSxbQknvZ8FnvWT",
     "type":"MD",
     "hide_input_from_viewers":false,
     "hide_output_from_viewers":false,
     "report_properties":{
      "rowId":"PQBT2uCbwvKv80lbTUNJLk"
     }
    }
   }
  },
  {
   "cell_type":"code",
   "source":[
    "from sklearn.linear_model import LogisticRegression\n",
    "from sklearn.model_selection import train_test_split, GridSearchCV\n",
    "from sklearn.preprocessing import StandardScaler, OrdinalEncoder, OneHotEncoder\n",
    "from sklearn.pipeline import make_pipeline\n",
    "from sklearn.metrics import roc_auc_score\n",
    "from sklearn.compose import ColumnTransformer"
   ],
   "execution_count":15,
   "outputs":[
    
   ],
   "metadata":{
    "datalore":{
     "node_id":"aYzEwG0uXCxiloT1p2hw7L",
     "type":"CODE",
     "hide_input_from_viewers":false,
     "hide_output_from_viewers":false,
     "report_properties":{
      "rowId":"6z6liMISxTbFjAovqoQvJD"
     }
    }
   }
  },
  {
   "cell_type":"code",
   "source":[
    "X = data_train.iloc[:, :-1]\n",
    "y = data_train.iloc[:, -1]\n",
    "\n",
    "logreg_transformer = ColumnTransformer(transformers=[\n",
    "                                ('num', StandardScaler(), num_cols),\n",
    "                                ('cat_OH', OneHotEncoder(), cat_cols)\n",
    "])\n",
    "\n",
    "X_train, X_valid, y_train, y_valid = train_test_split(X, y, test_size=.2)\n",
    "\n",
    "pipeline = make_pipeline(logreg_transformer, LogisticRegression(n_jobs=-1))\n",
    "param_grid = {\n",
    "   'logisticregression__C': [100, 10, 1, 0.1, 0.01, 0.001],\n",
    "   'logisticregression__penalty': ['l1', 'l2'],\n",
    "   'logisticregression__max_iter' : [100, 300, 500, 1000],\n",
    "   'logisticregression__solver' : ['newton-cg', 'lbfgs', 'liblinear', 'sag', 'saga']\n",
    "}\n",
    "grid = GridSearchCV(estimator=pipeline, param_grid=param_grid, scoring='roc_auc')\n",
    "grid.fit(X, y)"
   ],
   "execution_count":16,
   "outputs":[
    {
     "data":{
      "text\/html":[
       "<style>#sk-container-id-1 {color: black;background-color: white;}#sk-container-id-1 pre{padding: 0;}#sk-container-id-1 div.sk-toggleable {background-color: white;}#sk-container-id-1 label.sk-toggleable__label {cursor: pointer;display: block;width: 100%;margin-bottom: 0;padding: 0.3em;box-sizing: border-box;text-align: center;}#sk-container-id-1 label.sk-toggleable__label-arrow:before {content: \"▸\";float: left;margin-right: 0.25em;color: #696969;}#sk-container-id-1 label.sk-toggleable__label-arrow:hover:before {color: black;}#sk-container-id-1 div.sk-estimator:hover label.sk-toggleable__label-arrow:before {color: black;}#sk-container-id-1 div.sk-toggleable__content {max-height: 0;max-width: 0;overflow: hidden;text-align: left;background-color: #f0f8ff;}#sk-container-id-1 div.sk-toggleable__content pre {margin: 0.2em;color: black;border-radius: 0.25em;background-color: #f0f8ff;}#sk-container-id-1 input.sk-toggleable__control:checked~div.sk-toggleable__content {max-height: 200px;max-width: 100%;overflow: auto;}#sk-container-id-1 input.sk-toggleable__control:checked~label.sk-toggleable__label-arrow:before {content: \"▾\";}#sk-container-id-1 div.sk-estimator input.sk-toggleable__control:checked~label.sk-toggleable__label {background-color: #d4ebff;}#sk-container-id-1 div.sk-label input.sk-toggleable__control:checked~label.sk-toggleable__label {background-color: #d4ebff;}#sk-container-id-1 input.sk-hidden--visually {border: 0;clip: rect(1px 1px 1px 1px);clip: rect(1px, 1px, 1px, 1px);height: 1px;margin: -1px;overflow: hidden;padding: 0;position: absolute;width: 1px;}#sk-container-id-1 div.sk-estimator {font-family: monospace;background-color: #f0f8ff;border: 1px dotted black;border-radius: 0.25em;box-sizing: border-box;margin-bottom: 0.5em;}#sk-container-id-1 div.sk-estimator:hover {background-color: #d4ebff;}#sk-container-id-1 div.sk-parallel-item::after {content: \"\";width: 100%;border-bottom: 1px solid gray;flex-grow: 1;}#sk-container-id-1 div.sk-label:hover label.sk-toggleable__label {background-color: #d4ebff;}#sk-container-id-1 div.sk-serial::before {content: \"\";position: absolute;border-left: 1px solid gray;box-sizing: border-box;top: 0;bottom: 0;left: 50%;z-index: 0;}#sk-container-id-1 div.sk-serial {display: flex;flex-direction: column;align-items: center;background-color: white;padding-right: 0.2em;padding-left: 0.2em;position: relative;}#sk-container-id-1 div.sk-item {position: relative;z-index: 1;}#sk-container-id-1 div.sk-parallel {display: flex;align-items: stretch;justify-content: center;background-color: white;position: relative;}#sk-container-id-1 div.sk-item::before, #sk-container-id-1 div.sk-parallel-item::before {content: \"\";position: absolute;border-left: 1px solid gray;box-sizing: border-box;top: 0;bottom: 0;left: 50%;z-index: -1;}#sk-container-id-1 div.sk-parallel-item {display: flex;flex-direction: column;z-index: 1;position: relative;background-color: white;}#sk-container-id-1 div.sk-parallel-item:first-child::after {align-self: flex-end;width: 50%;}#sk-container-id-1 div.sk-parallel-item:last-child::after {align-self: flex-start;width: 50%;}#sk-container-id-1 div.sk-parallel-item:only-child::after {width: 0;}#sk-container-id-1 div.sk-dashed-wrapped {border: 1px dashed gray;margin: 0 0.4em 0.5em 0.4em;box-sizing: border-box;padding-bottom: 0.4em;background-color: white;}#sk-container-id-1 div.sk-label label {font-family: monospace;font-weight: bold;display: inline-block;line-height: 1.2em;}#sk-container-id-1 div.sk-label-container {text-align: center;}#sk-container-id-1 div.sk-container {\/* jupyter's `normalize.less` sets `[hidden] { display: none; }` but bootstrap.min.css set `[hidden] { display: none !important; }` so we also need the `!important` here to be able to override the default hidden behavior on the sphinx rendered scikit-learn.org. See: https:\/\/github.com\/scikit-learn\/scikit-learn\/issues\/21755 *\/display: inline-block !important;position: relative;}#sk-container-id-1 div.sk-text-repr-fallback {display: none;}<\/style><div id=\"sk-container-id-1\" class=\"sk-top-container\"><div class=\"sk-text-repr-fallback\"><pre>GridSearchCV(estimator=Pipeline(steps=[(&#x27;columntransformer&#x27;,\n",
       "                                        ColumnTransformer(transformers=[(&#x27;num&#x27;,\n",
       "                                                                         StandardScaler(),\n",
       "                                                                         [&#x27;ClientPeriod&#x27;,\n",
       "                                                                          &#x27;MonthlySpending&#x27;,\n",
       "                                                                          &#x27;TotalSpent&#x27;]),\n",
       "                                                                        (&#x27;cat_OH&#x27;,\n",
       "                                                                         OneHotEncoder(),\n",
       "                                                                         [&#x27;Sex&#x27;,\n",
       "                                                                          &#x27;IsSeniorCitizen&#x27;,\n",
       "                                                                          &#x27;HasPartner&#x27;,\n",
       "                                                                          &#x27;HasChild&#x27;,\n",
       "                                                                          &#x27;HasPhoneService&#x27;,\n",
       "                                                                          &#x27;HasMultiplePhoneNumbers&#x27;,\n",
       "                                                                          &#x27;HasInternetService&#x27;,\n",
       "                                                                          &#x27;HasOnlineSecurityService&#x27;,\n",
       "                                                                          &#x27;HasOnlineBackup&#x27;,...\n",
       "                                                                          &#x27;HasContractPhone&#x27;,\n",
       "                                                                          &#x27;IsBillingPaperless&#x27;,\n",
       "                                                                          &#x27;PaymentMethod&#x27;])])),\n",
       "                                       (&#x27;logisticregression&#x27;,\n",
       "                                        LogisticRegression(n_jobs=-1))]),\n",
       "             param_grid={&#x27;logisticregression__C&#x27;: [100, 10, 1, 0.1, 0.01,\n",
       "                                                   0.001],\n",
       "                         &#x27;logisticregression__max_iter&#x27;: [100, 300, 500, 1000],\n",
       "                         &#x27;logisticregression__penalty&#x27;: [&#x27;l1&#x27;, &#x27;l2&#x27;],\n",
       "                         &#x27;logisticregression__solver&#x27;: [&#x27;newton-cg&#x27;, &#x27;lbfgs&#x27;,\n",
       "                                                        &#x27;liblinear&#x27;, &#x27;sag&#x27;,\n",
       "                                                        &#x27;saga&#x27;]},\n",
       "             scoring=&#x27;roc_auc&#x27;)<\/pre><b>In a Jupyter environment, please rerun this cell to show the HTML representation or trust the notebook. <br \/>On GitHub, the HTML representation is unable to render, please try loading this page with nbviewer.org.<\/b><\/div><div class=\"sk-container\" hidden><div class=\"sk-item sk-dashed-wrapped\"><div class=\"sk-label-container\"><div class=\"sk-label sk-toggleable\"><input class=\"sk-toggleable__control sk-hidden--visually\" id=\"sk-estimator-id-1\" type=\"checkbox\" ><label for=\"sk-estimator-id-1\" class=\"sk-toggleable__label sk-toggleable__label-arrow\">GridSearchCV<\/label><div class=\"sk-toggleable__content\"><pre>GridSearchCV(estimator=Pipeline(steps=[(&#x27;columntransformer&#x27;,\n",
       "                                        ColumnTransformer(transformers=[(&#x27;num&#x27;,\n",
       "                                                                         StandardScaler(),\n",
       "                                                                         [&#x27;ClientPeriod&#x27;,\n",
       "                                                                          &#x27;MonthlySpending&#x27;,\n",
       "                                                                          &#x27;TotalSpent&#x27;]),\n",
       "                                                                        (&#x27;cat_OH&#x27;,\n",
       "                                                                         OneHotEncoder(),\n",
       "                                                                         [&#x27;Sex&#x27;,\n",
       "                                                                          &#x27;IsSeniorCitizen&#x27;,\n",
       "                                                                          &#x27;HasPartner&#x27;,\n",
       "                                                                          &#x27;HasChild&#x27;,\n",
       "                                                                          &#x27;HasPhoneService&#x27;,\n",
       "                                                                          &#x27;HasMultiplePhoneNumbers&#x27;,\n",
       "                                                                          &#x27;HasInternetService&#x27;,\n",
       "                                                                          &#x27;HasOnlineSecurityService&#x27;,\n",
       "                                                                          &#x27;HasOnlineBackup&#x27;,...\n",
       "                                                                          &#x27;HasContractPhone&#x27;,\n",
       "                                                                          &#x27;IsBillingPaperless&#x27;,\n",
       "                                                                          &#x27;PaymentMethod&#x27;])])),\n",
       "                                       (&#x27;logisticregression&#x27;,\n",
       "                                        LogisticRegression(n_jobs=-1))]),\n",
       "             param_grid={&#x27;logisticregression__C&#x27;: [100, 10, 1, 0.1, 0.01,\n",
       "                                                   0.001],\n",
       "                         &#x27;logisticregression__max_iter&#x27;: [100, 300, 500, 1000],\n",
       "                         &#x27;logisticregression__penalty&#x27;: [&#x27;l1&#x27;, &#x27;l2&#x27;],\n",
       "                         &#x27;logisticregression__solver&#x27;: [&#x27;newton-cg&#x27;, &#x27;lbfgs&#x27;,\n",
       "                                                        &#x27;liblinear&#x27;, &#x27;sag&#x27;,\n",
       "                                                        &#x27;saga&#x27;]},\n",
       "             scoring=&#x27;roc_auc&#x27;)<\/pre><\/div><\/div><\/div><div class=\"sk-parallel\"><div class=\"sk-parallel-item\"><div class=\"sk-item\"><div class=\"sk-label-container\"><div class=\"sk-label sk-toggleable\"><input class=\"sk-toggleable__control sk-hidden--visually\" id=\"sk-estimator-id-2\" type=\"checkbox\" ><label for=\"sk-estimator-id-2\" class=\"sk-toggleable__label sk-toggleable__label-arrow\">estimator: Pipeline<\/label><div class=\"sk-toggleable__content\"><pre>Pipeline(steps=[(&#x27;columntransformer&#x27;,\n",
       "                 ColumnTransformer(transformers=[(&#x27;num&#x27;, StandardScaler(),\n",
       "                                                  [&#x27;ClientPeriod&#x27;,\n",
       "                                                   &#x27;MonthlySpending&#x27;,\n",
       "                                                   &#x27;TotalSpent&#x27;]),\n",
       "                                                 (&#x27;cat_OH&#x27;, OneHotEncoder(),\n",
       "                                                  [&#x27;Sex&#x27;, &#x27;IsSeniorCitizen&#x27;,\n",
       "                                                   &#x27;HasPartner&#x27;, &#x27;HasChild&#x27;,\n",
       "                                                   &#x27;HasPhoneService&#x27;,\n",
       "                                                   &#x27;HasMultiplePhoneNumbers&#x27;,\n",
       "                                                   &#x27;HasInternetService&#x27;,\n",
       "                                                   &#x27;HasOnlineSecurityService&#x27;,\n",
       "                                                   &#x27;HasOnlineBackup&#x27;,\n",
       "                                                   &#x27;HasDeviceProtection&#x27;,\n",
       "                                                   &#x27;HasTechSupportAccess&#x27;,\n",
       "                                                   &#x27;HasOnlineTV&#x27;,\n",
       "                                                   &#x27;HasMovieSubscription&#x27;,\n",
       "                                                   &#x27;HasContractPhone&#x27;,\n",
       "                                                   &#x27;IsBillingPaperless&#x27;,\n",
       "                                                   &#x27;PaymentMethod&#x27;])])),\n",
       "                (&#x27;logisticregression&#x27;, LogisticRegression(n_jobs=-1))])<\/pre><\/div><\/div><\/div><div class=\"sk-serial\"><div class=\"sk-item\"><div class=\"sk-serial\"><div class=\"sk-item sk-dashed-wrapped\"><div class=\"sk-label-container\"><div class=\"sk-label sk-toggleable\"><input class=\"sk-toggleable__control sk-hidden--visually\" id=\"sk-estimator-id-3\" type=\"checkbox\" ><label for=\"sk-estimator-id-3\" class=\"sk-toggleable__label sk-toggleable__label-arrow\">columntransformer: ColumnTransformer<\/label><div class=\"sk-toggleable__content\"><pre>ColumnTransformer(transformers=[(&#x27;num&#x27;, StandardScaler(),\n",
       "                                 [&#x27;ClientPeriod&#x27;, &#x27;MonthlySpending&#x27;,\n",
       "                                  &#x27;TotalSpent&#x27;]),\n",
       "                                (&#x27;cat_OH&#x27;, OneHotEncoder(),\n",
       "                                 [&#x27;Sex&#x27;, &#x27;IsSeniorCitizen&#x27;, &#x27;HasPartner&#x27;,\n",
       "                                  &#x27;HasChild&#x27;, &#x27;HasPhoneService&#x27;,\n",
       "                                  &#x27;HasMultiplePhoneNumbers&#x27;,\n",
       "                                  &#x27;HasInternetService&#x27;,\n",
       "                                  &#x27;HasOnlineSecurityService&#x27;, &#x27;HasOnlineBackup&#x27;,\n",
       "                                  &#x27;HasDeviceProtection&#x27;, &#x27;HasTechSupportAccess&#x27;,\n",
       "                                  &#x27;HasOnlineTV&#x27;, &#x27;HasMovieSubscription&#x27;,\n",
       "                                  &#x27;HasContractPhone&#x27;, &#x27;IsBillingPaperless&#x27;,\n",
       "                                  &#x27;PaymentMethod&#x27;])])<\/pre><\/div><\/div><\/div><div class=\"sk-parallel\"><div class=\"sk-parallel-item\"><div class=\"sk-item\"><div class=\"sk-label-container\"><div class=\"sk-label sk-toggleable\"><input class=\"sk-toggleable__control sk-hidden--visually\" id=\"sk-estimator-id-4\" type=\"checkbox\" ><label for=\"sk-estimator-id-4\" class=\"sk-toggleable__label sk-toggleable__label-arrow\">num<\/label><div class=\"sk-toggleable__content\"><pre>[&#x27;ClientPeriod&#x27;, &#x27;MonthlySpending&#x27;, &#x27;TotalSpent&#x27;]<\/pre><\/div><\/div><\/div><div class=\"sk-serial\"><div class=\"sk-item\"><div class=\"sk-estimator sk-toggleable\"><input class=\"sk-toggleable__control sk-hidden--visually\" id=\"sk-estimator-id-5\" type=\"checkbox\" ><label for=\"sk-estimator-id-5\" class=\"sk-toggleable__label sk-toggleable__label-arrow\">StandardScaler<\/label><div class=\"sk-toggleable__content\"><pre>StandardScaler()<\/pre><\/div><\/div><\/div><\/div><\/div><\/div><div class=\"sk-parallel-item\"><div class=\"sk-item\"><div class=\"sk-label-container\"><div class=\"sk-label sk-toggleable\"><input class=\"sk-toggleable__control sk-hidden--visually\" id=\"sk-estimator-id-6\" type=\"checkbox\" ><label for=\"sk-estimator-id-6\" class=\"sk-toggleable__label sk-toggleable__label-arrow\">cat_OH<\/label><div class=\"sk-toggleable__content\"><pre>[&#x27;Sex&#x27;, &#x27;IsSeniorCitizen&#x27;, &#x27;HasPartner&#x27;, &#x27;HasChild&#x27;, &#x27;HasPhoneService&#x27;, &#x27;HasMultiplePhoneNumbers&#x27;, &#x27;HasInternetService&#x27;, &#x27;HasOnlineSecurityService&#x27;, &#x27;HasOnlineBackup&#x27;, &#x27;HasDeviceProtection&#x27;, &#x27;HasTechSupportAccess&#x27;, &#x27;HasOnlineTV&#x27;, &#x27;HasMovieSubscription&#x27;, &#x27;HasContractPhone&#x27;, &#x27;IsBillingPaperless&#x27;, &#x27;PaymentMethod&#x27;]<\/pre><\/div><\/div><\/div><div class=\"sk-serial\"><div class=\"sk-item\"><div class=\"sk-estimator sk-toggleable\"><input class=\"sk-toggleable__control sk-hidden--visually\" id=\"sk-estimator-id-7\" type=\"checkbox\" ><label for=\"sk-estimator-id-7\" class=\"sk-toggleable__label sk-toggleable__label-arrow\">OneHotEncoder<\/label><div class=\"sk-toggleable__content\"><pre>OneHotEncoder()<\/pre><\/div><\/div><\/div><\/div><\/div><\/div><\/div><\/div><div class=\"sk-item\"><div class=\"sk-estimator sk-toggleable\"><input class=\"sk-toggleable__control sk-hidden--visually\" id=\"sk-estimator-id-8\" type=\"checkbox\" ><label for=\"sk-estimator-id-8\" class=\"sk-toggleable__label sk-toggleable__label-arrow\">LogisticRegression<\/label><div class=\"sk-toggleable__content\"><pre>LogisticRegression(n_jobs=-1)<\/pre><\/div><\/div><\/div><\/div><\/div><\/div><\/div><\/div><\/div><\/div><\/div><\/div>"
      ]
     },
     "metadata":{
      
     },
     "output_type":"display_data"
    }
   ],
   "metadata":{
    "datalore":{
     "node_id":"qepJR9s5zhtbkFcWIlvV9i",
     "type":"CODE",
     "hide_input_from_viewers":false,
     "hide_output_from_viewers":false,
     "report_properties":{
      "rowId":"YqVj0fihzpgvLfTjl6ZI2x"
     }
    }
   }
  },
  {
   "cell_type":"code",
   "source":[
    "grid.best_params_"
   ],
   "execution_count":26,
   "outputs":[
    {
     "data":{
      "text\/plain":[
       "{'logisticregression__C': 100,\n",
       " 'logisticregression__max_iter': 100,\n",
       " 'logisticregression__penalty': 'l2',\n",
       " 'logisticregression__solver': 'saga'}"
      ]
     },
     "metadata":{
      
     },
     "output_type":"display_data"
    }
   ],
   "metadata":{
    "datalore":{
     "node_id":"R9mP1zNjtWawXUvq0p7uTn",
     "type":"CODE",
     "hide_input_from_viewers":false,
     "hide_output_from_viewers":false,
     "report_properties":{
      "rowId":"0o395wg4XLxXC6lV6tFfKj"
     }
    }
   }
  },
  {
   "cell_type":"markdown",
   "source":[
    "Выше при помощи GridSearchCV были выбраны лучшие параметры:"
   ],
   "attachments":{
    
   },
   "metadata":{
    "datalore":{
     "node_id":"KqcZCs3euXltzfplSTmhOv",
     "type":"MD",
     "hide_input_from_viewers":false,
     "hide_output_from_viewers":false,
     "report_properties":{
      "rowId":"EK3oXNLnpsY0LuNVqgcIpP"
     }
    }
   }
  },
  {
   "cell_type":"code",
   "source":[
    "pipeline = make_pipeline(\n",
    "                         logreg_transformer, \n",
    "                         LogisticRegression(**{'C' : 100, 'max_iter' : 500, 'solver' : 'saga', 'penalty': 'l1'})\n",
    ")\n",
    "pipeline.fit(X_train, y_train)\n",
    "probs = pipeline.predict_proba(X_valid)[:, 1]"
   ],
   "execution_count":27,
   "outputs":[
    
   ],
   "metadata":{
    "datalore":{
     "node_id":"kf054vVM5dOd6L7hQMYfqV",
     "type":"CODE",
     "hide_input_from_viewers":false,
     "hide_output_from_viewers":false,
     "report_properties":{
      "rowId":"L4DMDt3ztZtWZ7jUzLVjAu"
     }
    }
   }
  },
  {
   "cell_type":"code",
   "source":[
    "print('Best ROC-AUC score -', str(roc_auc_score(y_valid, probs)))\n",
    "print('Params:')\n",
    "for i in {'C' : 100, 'max_iter' : 500, 'solver' : 'saga', 'penalty': 'l1'}.items():\n",
    "    print(i[0], \": \", i[1])"
   ],
   "execution_count":28,
   "outputs":[
    {
     "name":"stdout",
     "text":[
      "Best ROC-AUC score - 0.8487611968744044\n",
      "Params:\n",
      "C :  100\n",
      "max_iter :  500\n",
      "solver :  saga\n",
      "penalty :  l1\n"
     ],
     "output_type":"stream"
    }
   ],
   "metadata":{
    "datalore":{
     "node_id":"GHtZLYcdnJYhzrwktanKnA",
     "type":"CODE",
     "hide_input_from_viewers":false,
     "hide_output_from_viewers":false,
     "report_properties":{
      "rowId":"HjC317yMpsOQmyrZ3uKBpX"
     }
    }
   }
  },
  {
   "cell_type":"markdown",
   "source":[
    "Лучший результат метрики: 0.84876."
   ],
   "attachments":{
    
   },
   "metadata":{
    "datalore":{
     "node_id":"euQdeVxEcAxVRZpighjoFi",
     "type":"MD",
     "hide_input_from_viewers":false,
     "hide_output_from_viewers":false,
     "report_properties":{
      "rowId":"4RDasicQnYKzv96CjxlBdT"
     }
    }
   }
  },
  {
   "cell_type":"markdown",
   "source":[
    "# Gradient Boosting"
   ],
   "attachments":{
    
   },
   "metadata":{
    "datalore":{
     "node_id":"ApWjCOxoRe3O1aG1WCdvWn",
     "type":"MD",
     "hide_input_from_viewers":false,
     "hide_output_from_viewers":false,
     "report_properties":{
      "rowId":"lJETeKzKIs6Qcwss3NEwzh"
     }
    }
   }
  },
  {
   "cell_type":"code",
   "source":[
    "!pip install catboost"
   ],
   "execution_count":29,
   "outputs":[
    {
     "name":"stdout",
     "text":[
      "Requirement already satisfied: catboost in \/opt\/python\/envs\/default\/lib\/python3.8\/site-packages (1.2.3)\r\n",
      "Requirement already satisfied: graphviz in \/opt\/python\/envs\/default\/lib\/python3.8\/site-packages (from catboost) (0.20.1)\r\n",
      "Requirement already satisfied: matplotlib in \/opt\/python\/envs\/default\/lib\/python3.8\/site-packages (from catboost) (3.7.1)\r\n",
      "Requirement already satisfied: numpy>=1.16.0 in \/opt\/python\/envs\/default\/lib\/python3.8\/site-packages (from catboost) (1.24.3)\r\n",
      "Requirement already satisfied: pandas>=0.24 in \/opt\/python\/envs\/default\/lib\/python3.8\/site-packages (from catboost) (1.5.3)\r\n",
      "Requirement already satisfied: scipy in \/opt\/python\/envs\/default\/lib\/python3.8\/site-packages (from catboost) (1.9.1)\r\n",
      "Requirement already satisfied: plotly in \/opt\/python\/envs\/default\/lib\/python3.8\/site-packages (from catboost) (5.14.1)\r\n",
      "Requirement already satisfied: six in \/opt\/python\/envs\/default\/lib\/python3.8\/site-packages (from catboost) (1.16.0)\r\n",
      "Requirement already satisfied: python-dateutil>=2.8.1 in \/opt\/python\/envs\/default\/lib\/python3.8\/site-packages (from pandas>=0.24->catboost) (2.9.0.post0)\r\n",
      "Requirement already satisfied: pytz>=2020.1 in \/opt\/python\/envs\/default\/lib\/python3.8\/site-packages (from pandas>=0.24->catboost) (2024.1)\r\n",
      "Requirement already satisfied: contourpy>=1.0.1 in \/opt\/python\/envs\/default\/lib\/python3.8\/site-packages (from matplotlib->catboost) (1.1.1)\r\n",
      "Requirement already satisfied: cycler>=0.10 in \/opt\/python\/envs\/default\/lib\/python3.8\/site-packages (from matplotlib->catboost) (0.12.1)\r\n",
      "Requirement already satisfied: fonttools>=4.22.0 in \/opt\/python\/envs\/default\/lib\/python3.8\/site-packages (from matplotlib->catboost) (4.49.0)\r\n",
      "Requirement already satisfied: kiwisolver>=1.0.1 in \/opt\/python\/envs\/default\/lib\/python3.8\/site-packages (from matplotlib->catboost) (1.4.5)\r\n",
      "Requirement already satisfied: packaging>=20.0 in \/opt\/python\/envs\/default\/lib\/python3.8\/site-packages (from matplotlib->catboost) (23.2)\r\n",
      "Requirement already satisfied: pillow>=6.2.0 in \/opt\/python\/envs\/default\/lib\/python3.8\/site-packages (from matplotlib->catboost) (10.2.0)\r\n",
      "Requirement already satisfied: pyparsing>=2.3.1 in \/opt\/python\/envs\/default\/lib\/python3.8\/site-packages (from matplotlib->catboost) (3.1.1)\r\n",
      "Requirement already satisfied: importlib-resources>=3.2.0 in \/opt\/python\/envs\/default\/lib\/python3.8\/site-packages (from matplotlib->catboost) (6.1.2)\r\n",
      "Requirement already satisfied: tenacity>=6.2.0 in \/opt\/python\/envs\/default\/lib\/python3.8\/site-packages (from plotly->catboost) (8.2.3)\r\n",
      "Requirement already satisfied: zipp>=3.1.0 in \/opt\/python\/envs\/default\/lib\/python3.8\/site-packages (from importlib-resources>=3.2.0->matplotlib->catboost) (3.17.0)\r\n",
      "\r\n",
      "\u001b[1m[\u001b[0m\u001b[34;49mnotice\u001b[0m\u001b[1;39;49m]\u001b[0m\u001b[39;49m A new release of pip is available: \u001b[0m\u001b[31;49m23.1.2\u001b[0m\u001b[39;49m -> \u001b[0m\u001b[32;49m24.0\u001b[0m\r\n",
      "\u001b[1m[\u001b[0m\u001b[34;49mnotice\u001b[0m\u001b[1;39;49m]\u001b[0m\u001b[39;49m To update, run: \u001b[0m\u001b[32;49mpip install --upgrade pip\u001b[0m\r\n"
     ],
     "output_type":"stream"
    }
   ],
   "metadata":{
    "datalore":{
     "node_id":"IVKRJBsHA9iex5Vt3CdRdQ",
     "type":"CODE",
     "hide_input_from_viewers":false,
     "hide_output_from_viewers":false,
     "report_properties":{
      "rowId":"bLcG7rG2nrUUOK7kGcukQL"
     }
    }
   }
  },
  {
   "cell_type":"code",
   "source":[
    "from catboost import CatBoostClassifier, Pool"
   ],
   "execution_count":31,
   "outputs":[
    
   ],
   "metadata":{
    "datalore":{
     "node_id":"byzTDAA9QGSdIq7HYgWV8R",
     "type":"CODE",
     "hide_input_from_viewers":false,
     "hide_output_from_viewers":false,
     "report_properties":{
      "rowId":"jSHCcT1rzI6FM3uzwEVMJE"
     }
    }
   }
  },
  {
   "cell_type":"markdown",
   "source":[
    "## Default settings"
   ],
   "attachments":{
    
   },
   "metadata":{
    "datalore":{
     "node_id":"sUj0Qd7wIYaJ7pHeKuySRH",
     "type":"MD",
     "hide_input_from_viewers":false,
     "hide_output_from_viewers":false,
     "report_properties":{
      "rowId":"Obv64XlFndvHehi6J4TlXu"
     }
    }
   }
  },
  {
   "cell_type":"markdown",
   "source":[
    "1) Разделите выборку на train\/valid. Протестируйте catboost cо стандартными параметрами."
   ],
   "attachments":{
    
   },
   "metadata":{
    "datalore":{
     "node_id":"lGDGKqQIlrLgQhhjHlimkH",
     "type":"MD",
     "hide_input_from_viewers":false,
     "hide_output_from_viewers":false,
     "report_properties":{
      "rowId":"2wPo4AQSSawi5VZ6S7NEsT"
     }
    }
   }
  },
  {
   "cell_type":"code",
   "source":[
    "X_train, X_valid, y_train, y_valid = train_test_split(X, y, test_size=.2)\n",
    "\n",
    "train_dataset = Pool(X_train, y_train, cat_cols)\n",
    "val_dataset = Pool(X_valid, y_valid, cat_cols)\n",
    "\n",
    "cat_default = CatBoostClassifier(logging_level='Silent', eval_metric='AUC:hints=skip_train~false')\n",
    "cat_default.fit(train_dataset, use_best_model=True, eval_set=val_dataset)\n",
    "\n",
    "print(f'ROC-AUC score - {roc_auc_score(y_valid, cat_default.predict_proba(val_dataset)[:, 1])}')"
   ],
   "execution_count":32,
   "outputs":[
    {
     "name":"stdout",
     "text":[
      "ROC-AUC score - 0.8503084512799064\n"
     ],
     "output_type":"stream"
    }
   ],
   "metadata":{
    "datalore":{
     "node_id":"afFKxTQHtbps0jez3SDGWb",
     "type":"CODE",
     "hide_input_from_viewers":false,
     "hide_output_from_viewers":false,
     "report_properties":{
      "rowId":"u9ZnyWMhGawlHkruxuhTPk"
     }
    }
   }
  },
  {
   "cell_type":"markdown",
   "source":[
    "## CatBoost with parameters "
   ],
   "attachments":{
    
   },
   "metadata":{
    "datalore":{
     "node_id":"WnNsciFsnd8t4HagTxDXOz",
     "type":"MD",
     "hide_input_from_viewers":false,
     "hide_output_from_viewers":false,
     "report_properties":{
      "rowId":"jdQHynXc8vRHi0tTvLbeM7"
     }
    }
   }
  },
  {
   "cell_type":"markdown",
   "source":[
    "2) Протестируйте разные значения параметра количества деревьев и learning_rate'а и выберите лучшую по метрике ROC-AUC комбинацию."
   ],
   "attachments":{
    
   },
   "metadata":{
    "datalore":{
     "node_id":"jvmKGxuiDdxrzcgePSw2a8",
     "type":"MD",
     "hide_input_from_viewers":false,
     "hide_output_from_viewers":false,
     "report_properties":{
      "rowId":"RCRRZEEPCGBxQDaI5AR26T"
     }
    }
   }
  },
  {
   "cell_type":"code",
   "source":[
    "param_grid = {\n",
    "    'depth': [2, 3, 4],\n",
    "    'learning_rate': [0.02, 0.03, 0.04],\n",
    "    'iterations' : [100, 300, 500, 800],\n",
    "    }\n",
    "base_params = {\n",
    "    'logging_level':'Silent',\n",
    "    'loss_function':'Logloss',\n",
    "    'l2_leaf_reg': 3,\n",
    "    'random_strength': 1.2,\n",
    "    'eval_metric': 'AUC:hints=skip_train~false', \n",
    "}\n",
    "cat_param = CatBoostClassifier(**base_params)\n",
    "search = cat_param.grid_search(param_grid, train_dataset, cv=5)\n",
    "cat_param.fit(train_dataset, use_best_model=True, eval_set=val_dataset)\n",
    "print(search['params'])\n",
    "print(f'Best ROC-AUC score - {roc_auc_score(y_valid, cat_param.predict_proba(val_dataset)[:, 1])}')"
   ],
   "execution_count":33,
   "outputs":[
    {
     "name":"stdout",
     "text":[
      "0:\tloss: 0.8399139\tbest: 0.8399139 (0)\ttotal: 399ms\tremaining: 14s\n",
      "1:\tloss: 0.8462164\tbest: 0.8462164 (1)\ttotal: 730ms\tremaining: 12.4s\n",
      "2:\tloss: 0.8496636\tbest: 0.8496636 (2)\ttotal: 1.06s\tremaining: 11.7s\n",
      "3:\tloss: 0.8495840\tbest: 0.8496636 (2)\ttotal: 2.21s\tremaining: 17.7s\n",
      "4:\tloss: 0.8516018\tbest: 0.8516018 (4)\ttotal: 3.38s\tremaining: 21s\n",
      "5:\tloss: 0.8497293\tbest: 0.8516018 (4)\ttotal: 4.57s\tremaining: 22.8s\n",
      "6:\tloss: 0.8508473\tbest: 0.8516018 (4)\ttotal: 6.52s\tremaining: 27s\n",
      "7:\tloss: 0.8516433\tbest: 0.8516433 (7)\ttotal: 8.51s\tremaining: 29.8s\n",
      "8:\tloss: 0.8497293\tbest: 0.8516433 (7)\ttotal: 10.5s\tremaining: 31.6s\n",
      "9:\tloss: 0.8509338\tbest: 0.8516433 (7)\ttotal: 14s\tremaining: 36.5s\n",
      "10:\tloss: 0.8516433\tbest: 0.8516433 (7)\ttotal: 18.6s\tremaining: 42.2s\n",
      "11:\tloss: 0.8497293\tbest: 0.8516433 (7)\ttotal: 36.9s\tremaining: 1m 13s\n",
      "12:\tloss: 0.8453650\tbest: 0.8516433 (7)\ttotal: 43.4s\tremaining: 1m 16s\n",
      "13:\tloss: 0.8492310\tbest: 0.8516433 (7)\ttotal: 48.7s\tremaining: 1m 16s\n",
      "14:\tloss: 0.8515256\tbest: 0.8516433 (7)\ttotal: 53.5s\tremaining: 1m 14s\n",
      "15:\tloss: 0.8507573\tbest: 0.8516433 (7)\ttotal: 1m 15s\tremaining: 1m 34s\n",
      "16:\tloss: 0.8498228\tbest: 0.8516433 (7)\ttotal: 1m 28s\tremaining: 1m 38s\n",
      "17:\tloss: 0.8503004\tbest: 0.8516433 (7)\ttotal: 1m 47s\tremaining: 1m 47s\n",
      "18:\tloss: 0.8508888\tbest: 0.8516433 (7)\ttotal: 1m 50s\tremaining: 1m 38s\n",
      "19:\tloss: 0.8498228\tbest: 0.8516433 (7)\ttotal: 1m 53s\tremaining: 1m 30s\n",
      "20:\tloss: 0.8503004\tbest: 0.8516433 (7)\ttotal: 1m 55s\tremaining: 1m 22s\n",
      "21:\tloss: 0.8508888\tbest: 0.8516433 (7)\ttotal: 2m\tremaining: 1m 16s\n",
      "22:\tloss: 0.8498228\tbest: 0.8516433 (7)\ttotal: 2m 4s\tremaining: 1m 10s\n",
      "23:\tloss: 0.8503004\tbest: 0.8516433 (7)\ttotal: 2m 8s\tremaining: 1m 4s\n",
      "24:\tloss: 0.8494282\tbest: 0.8516433 (7)\ttotal: 2m 9s\tremaining: 56.9s\n",
      "25:\tloss: 0.8506154\tbest: 0.8516433 (7)\ttotal: 2m 9s\tremaining: 49.9s\n",
      "26:\tloss: 0.8476562\tbest: 0.8516433 (7)\ttotal: 2m 10s\tremaining: 43.4s\n",
      "27:\tloss: 0.8506534\tbest: 0.8516433 (7)\ttotal: 2m 11s\tremaining: 37.7s\n",
      "28:\tloss: 0.8491479\tbest: 0.8516433 (7)\ttotal: 2m 13s\tremaining: 32.3s\n",
      "29:\tloss: 0.8510272\tbest: 0.8516433 (7)\ttotal: 2m 15s\tremaining: 27.2s\n",
      "30:\tloss: 0.8512453\tbest: 0.8516433 (7)\ttotal: 2m 19s\tremaining: 22.4s\n",
      "31:\tloss: 0.8491479\tbest: 0.8516433 (7)\ttotal: 2m 22s\tremaining: 17.8s\n",
      "32:\tloss: 0.8510272\tbest: 0.8516433 (7)\ttotal: 2m 25s\tremaining: 13.2s\n",
      "33:\tloss: 0.8512453\tbest: 0.8516433 (7)\ttotal: 2m 30s\tremaining: 8.88s\n",
      "34:\tloss: 0.8491479\tbest: 0.8516433 (7)\ttotal: 2m 37s\tremaining: 4.51s\n",
      "35:\tloss: 0.8510272\tbest: 0.8516433 (7)\ttotal: 3m\tremaining: 0us\n",
      "Estimating final quality...\n",
      "{'depth': 2, 'learning_rate': 0.03, 'iterations': 500}\n",
      "Best ROC-AUC score - 0.8526539167134018\n"
     ],
     "output_type":"stream"
    }
   ],
   "metadata":{
    "datalore":{
     "node_id":"HT028fMAGShgVVfwH8ukZw",
     "type":"CODE",
     "hide_input_from_viewers":false,
     "hide_output_from_viewers":false,
     "report_properties":{
      "rowId":"vJlulaGWaHb7v6NskntyOO"
     }
    }
   }
  },
  {
   "cell_type":"markdown",
   "source":[
    "{'depth': 2, 'learning_rate': 0.03, 'iterations': 500}\n",
    "Best ROC-AUC score - 0.8526539167134018"
   ],
   "attachments":{
    
   },
   "metadata":{
    "datalore":{
     "node_id":"qnXqm2aPNuGW1dGxsXsXRn",
     "type":"MD",
     "hide_input_from_viewers":false,
     "hide_output_from_viewers":false,
     "report_properties":{
      "rowId":"4Y3p5qnwB8DZrvpHuVR6Ix"
     }
    }
   }
  },
  {
   "cell_type":"markdown",
   "source":[
    "# Predictions"
   ],
   "attachments":{
    
   },
   "metadata":{
    "datalore":{
     "node_id":"qfgLxptSSFEmoaIJEWU253",
     "type":"MD",
     "hide_input_from_viewers":false,
     "hide_output_from_viewers":false,
     "report_properties":{
      "rowId":"kS3f3aqCgNGVmggPZx6bt2"
     }
    }
   }
  },
  {
   "cell_type":"markdown",
   "source":[
    "Лучшей моделью оказалась CatBoost с параметрами."
   ],
   "attachments":{
    
   },
   "metadata":{
    "datalore":{
     "node_id":"0HuRv0HxDinDu98eESrOCP",
     "type":"MD",
     "hide_input_from_viewers":false,
     "hide_output_from_viewers":false,
     "report_properties":{
      "rowId":"GxWmyvxWamBD6iISLNRA8E"
     }
    }
   }
  },
  {
   "cell_type":"code",
   "source":[
    "best_model = cat_param"
   ],
   "execution_count":34,
   "outputs":[
    
   ],
   "metadata":{
    "datalore":{
     "node_id":"ki2MykUX8zSn1ntmAdKsUu",
     "type":"CODE",
     "hide_input_from_viewers":false,
     "hide_output_from_viewers":false,
     "report_properties":{
      "rowId":"rXayuXuCrq1CMshv5m27fv"
     }
    }
   }
  },
  {
   "cell_type":"code",
   "source":[
    "data_test = pd.read_csv(test_path)\n",
    "submission = pd.read_csv(submission_path)\n",
    "\n",
    "data_test[\"TotalSpent\"] = data_test[\"TotalSpent\"].apply(pd.to_numeric,errors='coerce')\n",
    "data_test[\"TotalSpent\"] = data_test[\"TotalSpent\"].astype('float64')\n",
    "data_test['TotalSpent'].fillna(value=data_test['TotalSpent'].mean(), inplace=True)\n",
    "\n",
    "submission['Churn'] = best_model.predict_proba(data_test)[:, 1]\n",
    "submission.to_csv('.\/my_submission.csv', index=False)\n",
    "submission.head(5)"
   ],
   "execution_count":35,
   "outputs":[
    {
     "data":{
      "text\/html":[
       "<div>\n",
       "<style scoped>\n",
       "    .dataframe tbody tr th:only-of-type {\n",
       "        vertical-align: middle;\n",
       "    }\n",
       "\n",
       "    .dataframe tbody tr th {\n",
       "        vertical-align: top;\n",
       "    }\n",
       "\n",
       "    .dataframe thead th {\n",
       "        text-align: right;\n",
       "    }\n",
       "<\/style>\n",
       "<table border=\"1\" class=\"dataframe\">\n",
       "  <thead>\n",
       "    <tr style=\"text-align: right;\">\n",
       "      <th><\/th>\n",
       "      <th>Id<\/th>\n",
       "      <th>Churn<\/th>\n",
       "    <\/tr>\n",
       "  <\/thead>\n",
       "  <tbody>\n",
       "    <tr>\n",
       "      <th>0<\/th>\n",
       "      <td>0<\/td>\n",
       "      <td>0.044783<\/td>\n",
       "    <\/tr>\n",
       "    <tr>\n",
       "      <th>1<\/th>\n",
       "      <td>1<\/td>\n",
       "      <td>0.657283<\/td>\n",
       "    <\/tr>\n",
       "    <tr>\n",
       "      <th>2<\/th>\n",
       "      <td>2<\/td>\n",
       "      <td>0.683150<\/td>\n",
       "    <\/tr>\n",
       "    <tr>\n",
       "      <th>3<\/th>\n",
       "      <td>3<\/td>\n",
       "      <td>0.014643<\/td>\n",
       "    <\/tr>\n",
       "    <tr>\n",
       "      <th>4<\/th>\n",
       "      <td>4<\/td>\n",
       "      <td>0.006278<\/td>\n",
       "    <\/tr>\n",
       "  <\/tbody>\n",
       "<\/table>\n",
       "<\/div>"
      ]
     },
     "metadata":{
      
     },
     "output_type":"display_data"
    }
   ],
   "metadata":{
    "datalore":{
     "node_id":"mFHH3IxmzTawW3a1ibI6zA",
     "type":"CODE",
     "hide_input_from_viewers":false,
     "hide_output_from_viewers":false,
     "report_properties":{
      "rowId":"OK434T6AQsrDkN0CS6I7be"
     }
    }
   }
  },
  {
   "cell_type":"markdown",
   "source":[
    "# Kaggle\n",
    "Дарья Рузанова, score: 0.85036"
   ],
   "attachments":{
    
   },
   "metadata":{
    "datalore":{
     "node_id":"XFwUX5hQ7gSZCdp4pW93kI",
     "type":"MD",
     "hide_input_from_viewers":false,
     "hide_output_from_viewers":false,
     "report_properties":{
      "rowId":"WHNi1RRllVN9tn3CYp8Jqk"
     }
    }
   }
  }
 ],
 "metadata":{
  "kernelspec":{
   "display_name":"Python",
   "language":"python",
   "name":"python"
  },
  "datalore":{
   "computation_mode":"JUPYTER",
   "package_manager":"pip",
   "base_environment":"default",
   "packages":[
    
   ],
   "report_row_ids":[
    "uUBWv21AWKexFUK5X6Wi5h",
    "fVKRAf4PXx8VRhuGstFXj6",
    "I4GnGgMrkZ0IwgJvcYi7eF",
    "OjvCbKFiFtKEGfSvjCeJEi",
    "T0kk5zlhI0NJcgGzw38kJ8",
    "ztuFmbwE8zDjBVMFs070fG",
    "jhzJ1bnfjjchl4yeu9GCYj",
    "TEGp35vyiU7GRifxmYi9Fc",
    "HDXCpLdLEdUuBTlAzZWi59",
    "KmGVqrhT68NGyhEV6FsLzt",
    "qKVD7DsCXUEHI1YHH16yQl",
    "5Omn6EwaroaT4eN0pNYshz",
    "BRKc3GLn9EvQBs6lPawd10",
    "OMl8rymy5DNgp9yD5HzsKo",
    "QZt3qPW3tpZrd1eJ5s4ts5",
    "vIxOg4bYwRp6wmRlnHtEOE",
    "tz2giB5NWTtPx89ATlWrjQ",
    "e9NmYdstBIKzvXrhW6qeFs",
    "FToFgba5McFLhAbuQx0VRC",
    "1aE1T13rnKGlaSeoc4poyB",
    "wbeMR4AQjIbmjUofAURj7F",
    "rACkF6IEZ5anP2g1Dhjzid",
    "8NiTfXml5IPG5h5xZb0Rvt",
    "PQBT2uCbwvKv80lbTUNJLk",
    "6z6liMISxTbFjAovqoQvJD",
    "YqVj0fihzpgvLfTjl6ZI2x",
    "0o395wg4XLxXC6lV6tFfKj",
    "EK3oXNLnpsY0LuNVqgcIpP",
    "L4DMDt3ztZtWZ7jUzLVjAu",
    "HjC317yMpsOQmyrZ3uKBpX",
    "4RDasicQnYKzv96CjxlBdT",
    "lJETeKzKIs6Qcwss3NEwzh",
    "bLcG7rG2nrUUOK7kGcukQL",
    "jSHCcT1rzI6FM3uzwEVMJE",
    "Obv64XlFndvHehi6J4TlXu",
    "2wPo4AQSSawi5VZ6S7NEsT",
    "u9ZnyWMhGawlHkruxuhTPk",
    "jdQHynXc8vRHi0tTvLbeM7",
    "RCRRZEEPCGBxQDaI5AR26T",
    "vJlulaGWaHb7v6NskntyOO",
    "4Y3p5qnwB8DZrvpHuVR6Ix",
    "kS3f3aqCgNGVmggPZx6bt2",
    "GxWmyvxWamBD6iISLNRA8E",
    "rXayuXuCrq1CMshv5m27fv",
    "OK434T6AQsrDkN0CS6I7be",
    "WHNi1RRllVN9tn3CYp8Jqk"
   ],
   "version":3
  }
 },
 "nbformat":4,
 "nbformat_minor":4
}